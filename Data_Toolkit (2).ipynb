{
  "nbformat": 4,
  "nbformat_minor": 0,
  "metadata": {
    "colab": {
      "provenance": []
    },
    "kernelspec": {
      "name": "python3",
      "display_name": "Python 3"
    },
    "language_info": {
      "name": "python"
    }
  },
  "cells": [
    {
      "cell_type": "markdown",
      "source": [
        "# Data Tool Assignment\n"
      ],
      "metadata": {
        "id": "YAMu2L1tiyvb"
      }
    },
    {
      "cell_type": "markdown",
      "source": [
        "**Q1. What is NumPy, and why is it widely used in Python?**\n",
        "\n",
        "--> NumPy (Numerical Python) is a Python library used for numerical computations. It provides support for multidimensional arrays and a collection of mathematical functions to operate on these arrays efficiently. It is widely used because it is faster than Python lists due to its optimized C code, supports vectorized operations, and integrates seamlessly with other libraries like SciPy and Pandas."
      ],
      "metadata": {
        "id": "ya7v6_Sei2-W"
      }
    },
    {
      "cell_type": "markdown",
      "source": [
        "**Q2. How does broadcasting work in NumPy?**\n",
        "\n",
        "--> Broadcasting allows NumPy to perform element-wise operations on arrays of different shapes by automatically expanding the smaller array to match the shape of the larger one. For this to work, the dimensions must either be equal, one of them must be 1, or one array can be missing dimensions."
      ],
      "metadata": {
        "id": "t9CJyNWHjGll"
      }
    },
    {
      "cell_type": "markdown",
      "source": [
        "**Q3. What is a Pandas DataFrame?**\n",
        "\n",
        "--> A Pandas DataFrame is a two-dimensional, tabular data structure with labeled axes (rows and columns). It is similar to a spreadsheet or SQL table and is used for data manipulation and analysis."
      ],
      "metadata": {
        "id": "PND1eibcjNjG"
      }
    },
    {
      "cell_type": "markdown",
      "source": [
        "**Q4. Explain the use of the groupby() method in Pandas.**\n",
        "\n",
        "--> The groupby() method is used to group data based on a column or columns and perform operations like aggregation, transformation, or filtering. For example, you can calculate the mean, sum, or count for grouped data."
      ],
      "metadata": {
        "id": "Add82ju4jWVL"
      }
    },
    {
      "cell_type": "markdown",
      "source": [
        "**Q5. Why is Seaborn preferred for statistical visualizations?**\n",
        "\n",
        "--> Seaborn simplifies the creation of complex statistical plots like heatmaps, pairplots, and violin plots. It integrates well with Pandas and Matplotlib and provides built-in themes for aesthetically pleasing and informative visualizations."
      ],
      "metadata": {
        "id": "E2_8_2NEjeGo"
      }
    },
    {
      "cell_type": "markdown",
      "source": [
        "**Q6. What are the differences between NumPy arrays and Python lists?**\n",
        "\n",
        "--> NumPy arrays are faster and consume less memory than Python lists.\n",
        "\n",
        "Arrays support vectorized operations, while Python lists require explicit loops.\n",
        "\n",
        "Arrays are homogenous (store elements of the same data type), while lists can be heterogenous.\n"
      ],
      "metadata": {
        "id": "7xhJ41Qrjkg7"
      }
    },
    {
      "cell_type": "markdown",
      "source": [
        "**Q7. What is a heatmap, and when should it be used?**\n",
        "\n",
        "--> A heatmap is a graphical representation of data where individual values are represented by varying color intensities. It is used to visualize correlations, frequencies, or intensity variations in data."
      ],
      "metadata": {
        "id": "-ABFHGf5jwLM"
      }
    },
    {
      "cell_type": "markdown",
      "source": [
        "**Q8. What does the term “vectorized operation” mean in NumPy?**\n",
        "\n",
        "--> A vectorized operation performs computations on entire arrays without using explicit loops, making operations faster and more concise."
      ],
      "metadata": {
        "id": "zgGyjTmkj4NM"
      }
    },
    {
      "cell_type": "markdown",
      "source": [
        "**Q9. How does Matplotlib differ from Plotly?**\n",
        "\n",
        "--> Matplotlib is a static visualization library, while Plotly supports interactive and dynamic visualizations.\n",
        "\n",
        "Plotly is more user-friendly for web-based visualizations, while Matplotlib provides greater customization."
      ],
      "metadata": {
        "id": "ugBUSGoWj-h2"
      }
    },
    {
      "cell_type": "markdown",
      "source": [
        "**Q10. What is the significance of hierarchical indexing in Pandas?**\n",
        "\n",
        "--> Hierarchical indexing allows you to work with multi-level indexes in rows and columns, enabling complex data structures and facilitating operations on multi-dimensional data."
      ],
      "metadata": {
        "id": "Pe7KcDOokGd1"
      }
    },
    {
      "cell_type": "markdown",
      "source": [
        "**Q11. What is the role of Seaborn’s pairplot() function?**\n",
        "\n",
        "--> The pairplot() function creates pairwise scatterplots for all numerical columns in a dataset, making it useful for identifying relationships and correlations."
      ],
      "metadata": {
        "id": "yWyuVQ3hkYe0"
      }
    },
    {
      "cell_type": "markdown",
      "source": [
        "**Q12. What is the purpose of the describe() function in Pandas?**\n",
        "\n",
        "--> The describe() function generates summary statistics for numerical data, including count, mean, standard deviation, min, max, and percentiles."
      ],
      "metadata": {
        "id": "oIyPUoPjkkUL"
      }
    },
    {
      "cell_type": "markdown",
      "source": [
        "**Q13. Why is handling missing data important in Pandas?**\n",
        "\n",
        "--> Handling missing data ensures the accuracy and reliability of analysis by preventing errors and biases caused by incomplete datasets.\n",
        "\n"
      ],
      "metadata": {
        "id": "d2BoxinLkqIW"
      }
    },
    {
      "cell_type": "markdown",
      "source": [
        "**Q14. What are the benefits of using Plotly for data visualization?**\n",
        "\n",
        "--> Plotly offers interactivity, 3D plotting, and integration with web applications. It is ideal for creating dynamic and visually appealing visualizations."
      ],
      "metadata": {
        "id": "j_3J1GeUkyvs"
      }
    },
    {
      "cell_type": "markdown",
      "source": [
        "**Q15. How does NumPy handle multidimensional arrays?**\n",
        "\n",
        "--> NumPy provides a powerful N-dimensional array object, allowing efficient handling of multidimensional data and operations such as slicing, reshaping, and mathematical computations."
      ],
      "metadata": {
        "id": "G6EkK2XYk5lw"
      }
    },
    {
      "cell_type": "markdown",
      "source": [
        "**Q16. What is the role of Bokeh in data visualization?**\n",
        "\n",
        "--> Bokeh is a Python library for creating interactive visualizations for web applications. It supports interactive tools like zooming, panning, and hover annotations."
      ],
      "metadata": {
        "id": "e71r1P8flAXz"
      }
    },
    {
      "cell_type": "markdown",
      "source": [
        "**Q17. Explain the difference between apply() and map() in Pandas.**\n",
        "\n",
        "--> apply() works on rows or columns of a DataFrame.\n",
        "\n",
        "map() is used on a Series to apply a function element-wise."
      ],
      "metadata": {
        "id": "bZYnJvkalLYJ"
      }
    },
    {
      "cell_type": "markdown",
      "source": [
        "**Q18. What are some advanced features of NumPy?**\n",
        "\n",
        "--> Advanced features include broadcasting, masked arrays, FFT (Fast Fourier Transform), linear algebra operations, and integration with C/C++."
      ],
      "metadata": {
        "id": "mjIPW8Z_laaY"
      }
    },
    {
      "cell_type": "markdown",
      "source": [
        "**Q19. How does Pandas simplify time series analysis?**\n",
        "\n",
        "--> Pandas supports date and time manipulation, resampling, and rolling statistics, making time series analysis intuitive."
      ],
      "metadata": {
        "id": "FvBFxOEBliP9"
      }
    },
    {
      "cell_type": "markdown",
      "source": [
        "**Q20. What is the role of a pivot table in Pandas?**\n",
        "\n",
        "--> A pivot table summarizes and reshapes data, allowing you to aggregate values based on specific rows and columns."
      ],
      "metadata": {
        "id": "Ehdcv0KTlola"
      }
    },
    {
      "cell_type": "markdown",
      "source": [
        "**Q21. Why is NumPy’s array slicing faster than Python’s list slicing?**\n",
        "\n",
        "--> NumPy arrays use contiguous memory allocation, allowing operations to be performed at the hardware level without creating new objects, unlike Python lists.\n",
        "\n"
      ],
      "metadata": {
        "id": "KGpG6z0QluQp"
      }
    },
    {
      "cell_type": "markdown",
      "source": [
        "**Q22. What are some common use cases for Seaborn?**\n",
        "\n",
        "--> Common use cases include correlation heatmaps, pair plots, violin plots, and data distribution visualizations."
      ],
      "metadata": {
        "id": "Qk7O1YMYl0eL"
      }
    },
    {
      "cell_type": "markdown",
      "source": [
        "# Practical Questions"
      ],
      "metadata": {
        "id": "a5CXL-dUl_if"
      }
    },
    {
      "cell_type": "code",
      "execution_count": 1,
      "metadata": {
        "colab": {
          "base_uri": "https://localhost:8080/"
        },
        "id": "3lulHSOCirRH",
        "outputId": "9ddb9bdb-cf22-4a20-cd07-83b40d5db8a3"
      },
      "outputs": [
        {
          "output_type": "stream",
          "name": "stdout",
          "text": [
            "2D Array:\n",
            " [[1 2 3]\n",
            " [4 5 6]\n",
            " [7 8 9]]\n",
            "Sum of each row: [ 6 15 24]\n"
          ]
        }
      ],
      "source": [
        "# 1. How do you create a 2D NumPy array and calculate the sum of each row?\n",
        "\n",
        "import numpy as np\n",
        "\n",
        "array = np.array([[1, 2, 3], [4, 5, 6], [7, 8, 9]])\n",
        "\n",
        "row_sums = array.sum(axis=1)\n",
        "print(\"2D Array:\\n\", array)\n",
        "print(\"Sum of each row:\", row_sums)"
      ]
    },
    {
      "cell_type": "code",
      "source": [
        "# 2. Write a Pandas script to find the mean of a specific column in a DataFrame.\n",
        "\n",
        "import pandas as pd\n",
        "\n",
        "data = {'A': [1, 2, 3], 'B': [4, 5, 6], 'C': [7, 8, 9]}\n",
        "df = pd.DataFrame(data)\n",
        "\n",
        "mean_B = df['B'].mean()\n",
        "print(\"DataFrame:\\n\", df)\n",
        "print(\"Mean of column B:\", mean_B)"
      ],
      "metadata": {
        "colab": {
          "base_uri": "https://localhost:8080/"
        },
        "id": "f5Z8xEwZmUCo",
        "outputId": "09fe85d7-52a3-4e5d-cd58-a94f4e66e1fb"
      },
      "execution_count": 2,
      "outputs": [
        {
          "output_type": "stream",
          "name": "stdout",
          "text": [
            "DataFrame:\n",
            "    A  B  C\n",
            "0  1  4  7\n",
            "1  2  5  8\n",
            "2  3  6  9\n",
            "Mean of column B: 5.0\n"
          ]
        }
      ]
    },
    {
      "cell_type": "code",
      "source": [
        "# 3. Create a scatter plot using Matplotlib.\n",
        "\n",
        "import matplotlib.pyplot as plt\n",
        "\n",
        "x = [1, 2, 3, 4, 5]\n",
        "y = [10, 15, 20, 25, 30]\n",
        "\n",
        "plt.scatter(x, y, color='blue', label='Data Points')\n",
        "plt.title(\"Scatter Plot Example\")\n",
        "plt.xlabel(\"X-axis\")\n",
        "plt.ylabel(\"Y-axis\")\n",
        "plt.legend()\n",
        "plt.show()"
      ],
      "metadata": {
        "colab": {
          "base_uri": "https://localhost:8080/",
          "height": 472
        },
        "id": "_FBDMnO7meHC",
        "outputId": "5f0c7548-68d4-4516-d794-27acbdace036"
      },
      "execution_count": 3,
      "outputs": [
        {
          "output_type": "display_data",
          "data": {
            "text/plain": [
              "<Figure size 640x480 with 1 Axes>"
            ],
            "image/png": "[encoded data removed]"
          },
          "metadata": {}
        }
      ]
    },
    {
      "cell_type": "code",
      "source": [
        "# 4. How do you calculate the correlation matrix using Seaborn and visualize it with a heatmap?\n",
        "\n",
        "import seaborn as sns\n",
        "\n",
        "data = {'A': [1, 2, 3], 'B': [2, 4, 6], 'C': [3, 6, 9]}\n",
        "df = pd.DataFrame(data)\n",
        "\n",
        "correlation_matrix = df.corr()\n",
        "\n",
        "sns.heatmap(correlation_matrix, annot=True, cmap='coolwarm')\n",
        "plt.title(\"Correlation Matrix Heatmap\")\n",
        "plt.show()"
      ],
      "metadata": {
        "colab": {
          "base_uri": "https://localhost:8080/",
          "height": 452
        },
        "id": "aT1VjwFKmmB7",
        "outputId": "5f29f327-6d31-4c9b-aba8-c8206824a80a"
      },
      "execution_count": 4,
      "outputs": [
        {
          "output_type": "display_data",
          "data": {
            "text/plain": [
              "<Figure size 640x480 with 2 Axes>"
            ],
            "image/png": "[encoded data removed]"
          },
          "metadata": {}
        }
      ]
    },
    {
      "cell_type": "code",
      "source": [
        "# 5. Generate a bar plot using Plotly.\n",
        "\n",
        "import plotly.express as px\n",
        "\n",
        "data = {'Category': ['A', 'B', 'C'], 'Values': [10, 20, 30]}\n",
        "\n",
        "fig = px.bar(data, x='Category', y='Values', title=\"Bar Plot Example\")\n",
        "fig.show()"
      ],
      "metadata": {
        "colab": {
          "base_uri": "https://localhost:8080/",
          "height": 542
        },
        "id": "vZjxdi_SmuH6",
        "outputId": "503b3097-96b8-4267-a483-496f0d3fc77a"
      },
      "execution_count": 5,
      "outputs": [
        {
          "output_type": "display_data",
          "data": {
            "text/html": [
              "<html>\n",
              "<head><meta charset=\"utf-8\" /></head>\n",
              "<body>\n",
              "    <div>            <script src=\"https://cdnjs.cloudflare.com/ajax/libs/mathjax/2.7.5/MathJax.js?config=TeX-AMS-MML_SVG\"></script><script type=\"text/javascript\">if (window.MathJax && window.MathJax.Hub && window.MathJax.Hub.Config) {window.MathJax.Hub.Config({SVG: {font: \"STIX-Web\"}});}</script>                <script type=\"text/javascript\">window.PlotlyConfig = {MathJaxConfig: 'local'};</script>\n",
              "        <script charset=\"utf-8\" src=\"https://cdn.plot.ly/plotly-2.35.2.min.js\"></script>                <div id=\"e5744588-068a-4e72-a70e-71ac2d6fa413\" class=\"plotly-graph-div\" style=\"height:525px; width:100%;\"></div>            <script type=\"text/javascript\">                                    window.PLOTLYENV=window.PLOTLYENV || {};                                    if (document.getElementById(\"e5744588-068a-4e72-a70e-71ac2d6fa413\")) {                    Plotly.newPlot(                        \"e5744588-068a-4e72-a70e-71ac2d6fa413\",                        [{\"alignmentgroup\":\"True\",\"hovertemplate\":\"Category=%{x}\\u003cbr\\u003eValues=%{y}\\u003cextra\\u003e\\u003c\\u002fextra\\u003e\",\"legendgroup\":\"\",\"marker\":{\"color\":\"#636efa\",\"pattern\":{\"shape\":\"\"}},\"name\":\"\",\"offsetgroup\":\"\",\"orientation\":\"v\",\"showlegend\":false,\"textposition\":\"auto\",\"x\":[\"A\",\"B\",\"C\"],\"xaxis\":\"x\",\"y\":[10,20,30],\"yaxis\":\"y\",\"type\":\"bar\"}],                        {\"template\":{\"data\":{\"histogram2dcontour\":[{\"type\":\"histogram2dcontour\",\"colorbar\":{\"outlinewidth\":0,\"ticks\":\"\"},\"colorscale\":[[0.0,\"#0d0887\"],[0.1111111111111111,\"#46039f\"],[0.2222222222222222,\"#7201a8\"],[0.3333333333333333,\"#9c179e\"],[0.4444444444444444,\"#bd3786\"],[0.5555555555555556,\"#d8576b\"],[0.6666666666666666,\"#ed7953\"],[0.7777777777777778,\"#fb9f3a\"],[0.8888888888888888,\"#fdca26\"],[1.0,\"#f0f921\"]]}],\"choropleth\":[{\"type\":\"choropleth\",\"colorbar\":{\"outlinewidth\":0,\"ticks\":\"\"}}],\"histogram2d\":[{\"type\":\"histogram2d\",\"colorbar\":{\"outlinewidth\":0,\"ticks\":\"\"},\"colorscale\":[[0.0,\"#0d0887\"],[0.1111111111111111,\"#46039f\"],[0.2222222222222222,\"#7201a8\"],[0.3333333333333333,\"#9c179e\"],[0.4444444444444444,\"#bd3786\"],[0.5555555555555556,\"#d8576b\"],[0.6666666666666666,\"#ed7953\"],[0.7777777777777778,\"#fb9f3a\"],[0.8888888888888888,\"#fdca26\"],[1.0,\"#f0f921\"]]}],\"heatmap\":[{\"type\":\"heatmap\",\"colorbar\":{\"outlinewidth\":0,\"ticks\":\"\"},\"colorscale\":[[0.0,\"#0d0887\"],[0.1111111111111111,\"#46039f\"],[0.2222222222222222,\"#7201a8\"],[0.3333333333333333,\"#9c179e\"],[0.4444444444444444,\"#bd3786\"],[0.5555555555555556,\"#d8576b\"],[0.6666666666666666,\"#ed7953\"],[0.7777777777777778,\"#fb9f3a\"],[0.8888888888888888,\"#fdca26\"],[1.0,\"#f0f921\"]]}],\"heatmapgl\":[{\"type\":\"heatmapgl\",\"colorbar\":{\"outlinewidth\":0,\"ticks\":\"\"},\"colorscale\":[[0.0,\"#0d0887\"],[0.1111111111111111,\"#46039f\"],[0.2222222222222222,\"#7201a8\"],[0.3333333333333333,\"#9c179e\"],[0.4444444444444444,\"#bd3786\"],[0.5555555555555556,\"#d8576b\"],[0.6666666666666666,\"#ed7953\"],[0.7777777777777778,\"#fb9f3a\"],[0.8888888888888888,\"#fdca26\"],[1.0,\"#f0f921\"]]}],\"contourcarpet\":[{\"type\":\"contourcarpet\",\"colorbar\":{\"outlinewidth\":0,\"ticks\":\"\"}}],\"contour\":[{\"type\":\"contour\",\"colorbar\":{\"outlinewidth\":0,\"ticks\":\"\"},\"colorscale\":[[0.0,\"#0d0887\"],[0.1111111111111111,\"#46039f\"],[0.2222222222222222,\"#7201a8\"],[0.3333333333333333,\"#9c179e\"],[0.4444444444444444,\"#bd3786\"],[0.5555555555555556,\"#d8576b\"],[0.6666666666666666,\"#ed7953\"],[0.7777777777777778,\"#fb9f3a\"],[0.8888888888888888,\"#fdca26\"],[1.0,\"#f0f921\"]]}],\"surface\":[{\"type\":\"surface\",\"colorbar\":{\"outlinewidth\":0,\"ticks\":\"\"},\"colorscale\":[[0.0,\"#0d0887\"],[0.1111111111111111,\"#46039f\"],[0.2222222222222222,\"#7201a8\"],[0.3333333333333333,\"#9c179e\"],[0.4444444444444444,\"#bd3786\"],[0.5555555555555556,\"#d8576b\"],[0.6666666666666666,\"#ed7953\"],[0.7777777777777778,\"#fb9f3a\"],[0.8888888888888888,\"#fdca26\"],[1.0,\"#f0f921\"]]}],\"mesh3d\":[{\"type\":\"mesh3d\",\"colorbar\":{\"outlinewidth\":0,\"ticks\":\"\"}}],\"scatter\":[{\"fillpattern\":{\"fillmode\":\"overlay\",\"size\":10,\"solidity\":0.2},\"type\":\"scatter\"}],\"parcoords\":[{\"type\":\"parcoords\",\"line\":{\"colorbar\":{\"outlinewidth\":0,\"ticks\":\"\"}}}],\"scatterpolargl\":[{\"type\":\"scatterpolargl\",\"marker\":{\"colorbar\":{\"outlinewidth\":0,\"ticks\":\"\"}}}],\"bar\":[{\"error_x\":{\"color\":\"#2a3f5f\"},\"error_y\":{\"color\":\"#2a3f5f\"},\"marker\":{\"line\":{\"color\":\"#E5ECF6\",\"width\":0.5},\"pattern\":{\"fillmode\":\"overlay\",\"size\":10,\"solidity\":0.2}},\"type\":\"bar\"}],\"scattergeo\":[{\"type\":\"scattergeo\",\"marker\":{\"colorbar\":{\"outlinewidth\":0,\"ticks\":\"\"}}}],\"scatterpolar\":[{\"type\":\"scatterpolar\",\"marker\":{\"colorbar\":{\"outlinewidth\":0,\"ticks\":\"\"}}}],\"histogram\":[{\"marker\":{\"pattern\":{\"fillmode\":\"overlay\",\"size\":10,\"solidity\":0.2}},\"type\":\"histogram\"}],\"scattergl\":[{\"type\":\"scattergl\",\"marker\":{\"colorbar\":{\"outlinewidth\":0,\"ticks\":\"\"}}}],\"scatter3d\":[{\"type\":\"scatter3d\",\"line\":{\"colorbar\":{\"outlinewidth\":0,\"ticks\":\"\"}},\"marker\":{\"colorbar\":{\"outlinewidth\":0,\"ticks\":\"\"}}}],\"scattermapbox\":[{\"type\":\"scattermapbox\",\"marker\":{\"colorbar\":{\"outlinewidth\":0,\"ticks\":\"\"}}}],\"scatterternary\":[{\"type\":\"scatterternary\",\"marker\":{\"colorbar\":{\"outlinewidth\":0,\"ticks\":\"\"}}}],\"scattercarpet\":[{\"type\":\"scattercarpet\",\"marker\":{\"colorbar\":{\"outlinewidth\":0,\"ticks\":\"\"}}}],\"carpet\":[{\"aaxis\":{\"endlinecolor\":\"#2a3f5f\",\"gridcolor\":\"white\",\"linecolor\":\"white\",\"minorgridcolor\":\"white\",\"startlinecolor\":\"#2a3f5f\"},\"baxis\":{\"endlinecolor\":\"#2a3f5f\",\"gridcolor\":\"white\",\"linecolor\":\"white\",\"minorgridcolor\":\"white\",\"startlinecolor\":\"#2a3f5f\"},\"type\":\"carpet\"}],\"table\":[{\"cells\":{\"fill\":{\"color\":\"#EBF0F8\"},\"line\":{\"color\":\"white\"}},\"header\":{\"fill\":{\"color\":\"#C8D4E3\"},\"line\":{\"color\":\"white\"}},\"type\":\"table\"}],\"barpolar\":[{\"marker\":{\"line\":{\"color\":\"#E5ECF6\",\"width\":0.5},\"pattern\":{\"fillmode\":\"overlay\",\"size\":10,\"solidity\":0.2}},\"type\":\"barpolar\"}],\"pie\":[{\"automargin\":true,\"type\":\"pie\"}]},\"layout\":{\"autotypenumbers\":\"strict\",\"colorway\":[\"#636efa\",\"#EF553B\",\"#00cc96\",\"#ab63fa\",\"#FFA15A\",\"#19d3f3\",\"#FF6692\",\"#B6E880\",\"#FF97FF\",\"#FECB52\"],\"font\":{\"color\":\"#2a3f5f\"},\"hovermode\":\"closest\",\"hoverlabel\":{\"align\":\"left\"},\"paper_bgcolor\":\"white\",\"plot_bgcolor\":\"#E5ECF6\",\"polar\":{\"bgcolor\":\"#E5ECF6\",\"angularaxis\":{\"gridcolor\":\"white\",\"linecolor\":\"white\",\"ticks\":\"\"},\"radialaxis\":{\"gridcolor\":\"white\",\"linecolor\":\"white\",\"ticks\":\"\"}},\"ternary\":{\"bgcolor\":\"#E5ECF6\",\"aaxis\":{\"gridcolor\":\"white\",\"linecolor\":\"white\",\"ticks\":\"\"},\"baxis\":{\"gridcolor\":\"white\",\"linecolor\":\"white\",\"ticks\":\"\"},\"caxis\":{\"gridcolor\":\"white\",\"linecolor\":\"white\",\"ticks\":\"\"}},\"coloraxis\":{\"colorbar\":{\"outlinewidth\":0,\"ticks\":\"\"}},\"colorscale\":{\"sequential\":[[0.0,\"#0d0887\"],[0.1111111111111111,\"#46039f\"],[0.2222222222222222,\"#7201a8\"],[0.3333333333333333,\"#9c179e\"],[0.4444444444444444,\"#bd3786\"],[0.5555555555555556,\"#d8576b\"],[0.6666666666666666,\"#ed7953\"],[0.7777777777777778,\"#fb9f3a\"],[0.8888888888888888,\"#fdca26\"],[1.0,\"#f0f921\"]],\"sequentialminus\":[[0.0,\"#0d0887\"],[0.1111111111111111,\"#46039f\"],[0.2222222222222222,\"#7201a8\"],[0.3333333333333333,\"#9c179e\"],[0.4444444444444444,\"#bd3786\"],[0.5555555555555556,\"#d8576b\"],[0.6666666666666666,\"#ed7953\"],[0.7777777777777778,\"#fb9f3a\"],[0.8888888888888888,\"#fdca26\"],[1.0,\"#f0f921\"]],\"diverging\":[[0,\"#8e0152\"],[0.1,\"#c51b7d\"],[0.2,\"#de77ae\"],[0.3,\"#f1b6da\"],[0.4,\"#fde0ef\"],[0.5,\"#f7f7f7\"],[0.6,\"#e6f5d0\"],[0.7,\"#b8e186\"],[0.8,\"#7fbc41\"],[0.9,\"#4d9221\"],[1,\"#276419\"]]},\"xaxis\":{\"gridcolor\":\"white\",\"linecolor\":\"white\",\"ticks\":\"\",\"title\":{\"standoff\":15},\"zerolinecolor\":\"white\",\"automargin\":true,\"zerolinewidth\":2},\"yaxis\":{\"gridcolor\":\"white\",\"linecolor\":\"white\",\"ticks\":\"\",\"title\":{\"standoff\":15},\"zerolinecolor\":\"white\",\"automargin\":true,\"zerolinewidth\":2},\"scene\":{\"xaxis\":{\"backgroundcolor\":\"#E5ECF6\",\"gridcolor\":\"white\",\"linecolor\":\"white\",\"showbackground\":true,\"ticks\":\"\",\"zerolinecolor\":\"white\",\"gridwidth\":2},\"yaxis\":{\"backgroundcolor\":\"#E5ECF6\",\"gridcolor\":\"white\",\"linecolor\":\"white\",\"showbackground\":true,\"ticks\":\"\",\"zerolinecolor\":\"white\",\"gridwidth\":2},\"zaxis\":{\"backgroundcolor\":\"#E5ECF6\",\"gridcolor\":\"white\",\"linecolor\":\"white\",\"showbackground\":true,\"ticks\":\"\",\"zerolinecolor\":\"white\",\"gridwidth\":2}},\"shapedefaults\":{\"line\":{\"color\":\"#2a3f5f\"}},\"annotationdefaults\":{\"arrowcolor\":\"#2a3f5f\",\"arrowhead\":0,\"arrowwidth\":1},\"geo\":{\"bgcolor\":\"white\",\"landcolor\":\"#E5ECF6\",\"subunitcolor\":\"white\",\"showland\":true,\"showlakes\":true,\"lakecolor\":\"white\"},\"title\":{\"x\":0.05},\"mapbox\":{\"style\":\"light\"}}},\"xaxis\":{\"anchor\":\"y\",\"domain\":[0.0,1.0],\"title\":{\"text\":\"Category\"}},\"yaxis\":{\"anchor\":\"x\",\"domain\":[0.0,1.0],\"title\":{\"text\":\"Values\"}},\"legend\":{\"tracegroupgap\":0},\"title\":{\"text\":\"Bar Plot Example\"},\"barmode\":\"relative\"},                        {\"responsive\": true}                    ).then(function(){\n",
              "                            \n",
              "var gd = document.getElementById('e5744588-068a-4e72-a70e-71ac2d6fa413');\n",
              "var x = new MutationObserver(function (mutations, observer) {{\n",
              "        var display = window.getComputedStyle(gd).display;\n",
              "        if (!display || display === 'none') {{\n",
              "            console.log([gd, 'removed!']);\n",
              "            Plotly.purge(gd);\n",
              "            observer.disconnect();\n",
              "        }}\n",
              "}});\n",
              "\n",
              "// Listen for the removal of the full notebook cells\n",
              "var notebookContainer = gd.closest('#notebook-container');\n",
              "if (notebookContainer) {{\n",
              "    x.observe(notebookContainer, {childList: true});\n",
              "}}\n",
              "\n",
              "// Listen for the clearing of the current output cell\n",
              "var outputEl = gd.closest('.output');\n",
              "if (outputEl) {{\n",
              "    x.observe(outputEl, {childList: true});\n",
              "}}\n",
              "\n",
              "                        })                };                            </script>        </div>\n",
              "</body>\n",
              "</html>"
            ]
          },
          "metadata": {}
        }
      ]
    },
    {
      "cell_type": "code",
      "source": [
        "# 6. Create a DataFrame and add a new column based on an existing column.\n",
        "\n",
        "data = {'A': [1, 2, 3], 'B': [4, 5, 6]}\n",
        "df = pd.DataFrame(data)\n",
        "\n",
        "df['C'] = df['A'] + df['B']\n",
        "print(\"DataFrame with New Column:\\n\", df)"
      ],
      "metadata": {
        "colab": {
          "base_uri": "https://localhost:8080/"
        },
        "id": "Ul871gR2m0pC",
        "outputId": "55f8ff82-b9eb-4903-c36d-c3ebad4e2890"
      },
      "execution_count": 6,
      "outputs": [
        {
          "output_type": "stream",
          "name": "stdout",
          "text": [
            "DataFrame with New Column:\n",
            "    A  B  C\n",
            "0  1  4  5\n",
            "1  2  5  7\n",
            "2  3  6  9\n"
          ]
        }
      ]
    },
    {
      "cell_type": "code",
      "source": [
        "# 7. Write a program to perform element-wise multiplication of two NumPy arrays.\n",
        "\n",
        "array1 = np.array([1, 2, 3])\n",
        "array2 = np.array([4, 5, 6])\n",
        "\n",
        "result = np.multiply(array1, array2)\n",
        "print(\"Element-wise multiplication result:\", result)"
      ],
      "metadata": {
        "colab": {
          "base_uri": "https://localhost:8080/"
        },
        "id": "gzy0ndT8m_1y",
        "outputId": "64661bd4-c52a-47f4-9240-6da0276420a1"
      },
      "execution_count": 8,
      "outputs": [
        {
          "output_type": "stream",
          "name": "stdout",
          "text": [
            "Element-wise multiplication result: [ 4 10 18]\n"
          ]
        }
      ]
    },
    {
      "cell_type": "code",
      "source": [
        "# 8. Create a line plot with multiple lines using Matplotlib.\n",
        "\n",
        "x = [1, 2, 3, 4, 5]\n",
        "y1 = [2, 4, 6, 8, 10]\n",
        "y2 = [1, 3, 5, 7, 9]\n",
        "\n",
        "plt.plot(x, y1, label='Line 1', color='red')\n",
        "plt.plot(x, y2, label='Line 2', color='blue')\n",
        "plt.title(\"Line Plot Example\")\n",
        "plt.xlabel(\"X-axis\")\n",
        "plt.ylabel(\"Y-axis\")\n",
        "plt.legend()\n",
        "plt.show()"
      ],
      "metadata": {
        "colab": {
          "base_uri": "https://localhost:8080/",
          "height": 472
        },
        "id": "eeYhdzWmnIIC",
        "outputId": "8a9eee62-c6a3-428c-d825-7ec70faad3d4"
      },
      "execution_count": 9,
      "outputs": [
        {
          "output_type": "display_data",
          "data": {
            "text/plain": [
              "<Figure size 640x480 with 1 Axes>"
            ],
            "image/png": "[encoded data removed]"
          },
          "metadata": {}
        }
      ]
    },
    {
      "cell_type": "code",
      "source": [
        "# 9. Generate a Pandas DataFrame and filter rows where a column value is greater than a threshold.\n",
        "\n",
        "data = {'A': [10, 20, 30, 40], 'B': [5, 15, 25, 35]}\n",
        "df = pd.DataFrame(data)\n",
        "\n",
        "filtered_df = df[df['A'] > 25]\n",
        "print(\"Filtered DataFrame:\\n\", filtered_df)"
      ],
      "metadata": {
        "colab": {
          "base_uri": "https://localhost:8080/"
        },
        "id": "BWt3KccNnQL4",
        "outputId": "47641bf6-5071-44bc-d9fb-1555e4612f93"
      },
      "execution_count": 10,
      "outputs": [
        {
          "output_type": "stream",
          "name": "stdout",
          "text": [
            "Filtered DataFrame:\n",
            "     A   B\n",
            "2  30  25\n",
            "3  40  35\n"
          ]
        }
      ]
    },
    {
      "cell_type": "code",
      "source": [
        "# 10. Create a histogram using Seaborn to visualize a distribution.\n",
        "\n",
        "data = [1, 2, 2, 3, 3, 3, 4, 4, 5]\n",
        "\n",
        "sns.histplot(data, kde=True, color='skyblue')\n",
        "plt.title(\"Histogram Example\")\n",
        "plt"
      ],
      "metadata": {
        "colab": {
          "base_uri": "https://localhost:8080/",
          "height": 469
        },
        "id": "rMTj4nuinWss",
        "outputId": "4c3cd048-f095-49c2-d3b9-738d0c080631"
      },
      "execution_count": 11,
      "outputs": [
        {
          "output_type": "execute_result",
          "data": {
            "text/plain": [
              "<module 'matplotlib.pyplot' from '/usr/local/lib/python3.10/dist-packages/matplotlib/pyplot.py'>"
            ]
          },
          "metadata": {},
          "execution_count": 11
        },
        {
          "output_type": "display_data",
          "data": {
            "text/plain": [
              "<Figure size 640x480 with 1 Axes>"
            ],
            "image/png": "[encoded data removed]"
          },
          "metadata": {}
        }
      ]
    },
    {
      "cell_type": "code",
      "source": [
        "# 11. Perform matrix multiplication using NumPy.\n",
        "\n",
        "matrix1 = np.array([[1, 2], [3, 4]])\n",
        "matrix2 = np.array([[5, 6], [7, 8]])\n",
        "\n",
        "result = np.dot(matrix1, matrix2)\n",
        "print(\"Matrix Multiplication Result:\\n\", result)"
      ],
      "metadata": {
        "colab": {
          "base_uri": "https://localhost:8080/"
        },
        "id": "0DLdWvJxncJf",
        "outputId": "01c28dba-d6d5-4a5c-edd9-3948ac660307"
      },
      "execution_count": 12,
      "outputs": [
        {
          "output_type": "stream",
          "name": "stdout",
          "text": [
            "Matrix Multiplication Result:\n",
            " [[19 22]\n",
            " [43 50]]\n"
          ]
        }
      ]
    },
    {
      "cell_type": "code",
      "source": [
        "# 12. Use Pandas to load a CSV file and display its first 5 rows.\n",
        "\n",
        "path = \"/content/data.csv\" # This is the data set which I used for my project\n",
        "df_cancer = pd.read_csv(path)\n",
        "df_cancer\n",
        "\n",
        "df_cancer.head()"
      ],
      "metadata": {
        "colab": {
          "base_uri": "https://localhost:8080/",
          "height": 256
        },
        "id": "kuQx9SS-nglx",
        "outputId": "307b6d03-dbe5-4d2c-a0e9-9593e68809a2"
      },
      "execution_count": 15,
      "outputs": [
        {
          "output_type": "execute_result",
          "data": {
            "text/plain": [
              "         id diagnosis  radius_mean  texture_mean  perimeter_mean  area_mean  \\\n",
              "0    842302         M        17.99         10.38          122.80     1001.0   \n",
              "1    842517         M        20.57         17.77          132.90     1326.0   \n",
              "2  84300903         M        19.69         21.25          130.00     1203.0   \n",
              "3  84348301         M        11.42         20.38           77.58      386.1   \n",
              "4  84358402         M        20.29         14.34          135.10     1297.0   \n",
              "\n",
              "   smoothness_mean  compactness_mean  concavity_mean  concave_points_mean  \\\n",
              "0          0.11840           0.27760          0.3001              0.14710   \n",
              "1          0.08474           0.07864          0.0869              0.07017   \n",
              "2          0.10960           0.15990          0.1974              0.12790   \n",
              "3          0.14250           0.28390          0.2414              0.10520   \n",
              "4          0.10030           0.13280          0.1980              0.10430   \n",
              "\n",
              "   ...  radius_worst  texture_worst  perimeter_worst  area_worst  \\\n",
              "0  ...         25.38          17.33           184.60      2019.0   \n",
              "1  ...         24.99          23.41           158.80      1956.0   \n",
              "2  ...         23.57          25.53           152.50      1709.0   \n",
              "3  ...         14.91          26.50            98.87       567.7   \n",
              "4  ...         22.54          16.67           152.20      1575.0   \n",
              "\n",
              "   smoothness_worst  compactness_worst  concavity_worst  concave_points_worst  \\\n",
              "0            0.1622             0.6656           0.7119                0.2654   \n",
              "1            0.1238             0.1866           0.2416                0.1860   \n",
              "2            0.1444             0.4245           0.4504                0.2430   \n",
              "3            0.2098             0.8663           0.6869                0.2575   \n",
              "4            0.1374             0.2050           0.4000                0.1625   \n",
              "\n",
              "   symmetry_worst  fractal_dimension_worst  \n",
              "0          0.4601                  0.11890  \n",
              "1          0.2750                  0.08902  \n",
              "2          0.3613                  0.08758  \n",
              "3          0.6638                  0.17300  \n",
              "4          0.2364                  0.07678  \n",
              "\n",
              "[5 rows x 32 columns]"
            ],
            "text/html": [
              "\n",
              "  <div id=\"df-50230a87-9c78-4250-9071-d45a586e76be\" class=\"colab-df-container\">\n",
              "    <div>\n",
              "<style scoped>\n",
              "    .dataframe tbody tr th:only-of-type {\n",
              "        vertical-align: middle;\n",
              "    }\n",
              "\n",
              "    .dataframe tbody tr th {\n",
              "        vertical-align: top;\n",
              "    }\n",
              "\n",
              "    .dataframe thead th {\n",
              "        text-align: right;\n",
              "    }\n",
              "</style>\n",
              "<table border=\"1\" class=\"dataframe\">\n",
              "  <thead>\n",
              "    <tr style=\"text-align: right;\">\n",
              "      <th></th>\n",
              "      <th>id</th>\n",
              "      <th>diagnosis</th>\n",
              "      <th>radius_mean</th>\n",
              "      <th>texture_mean</th>\n",
              "      <th>perimeter_mean</th>\n",
              "      <th>area_mean</th>\n",
              "      <th>smoothness_mean</th>\n",
              "      <th>compactness_mean</th>\n",
              "      <th>concavity_mean</th>\n",
              "      <th>concave_points_mean</th>\n",
              "      <th>...</th>\n",
              "      <th>radius_worst</th>\n",
              "      <th>texture_worst</th>\n",
              "      <th>perimeter_worst</th>\n",
              "      <th>area_worst</th>\n",
              "      <th>smoothness_worst</th>\n",
              "      <th>compactness_worst</th>\n",
              "      <th>concavity_worst</th>\n",
              "      <th>concave_points_worst</th>\n",
              "      <th>symmetry_worst</th>\n",
              "      <th>fractal_dimension_worst</th>\n",
              "    </tr>\n",
              "  </thead>\n",
              "  <tbody>\n",
              "    <tr>\n",
              "      <th>0</th>\n",
              "      <td>842302</td>\n",
              "      <td>M</td>\n",
              "      <td>17.99</td>\n",
              "      <td>10.38</td>\n",
              "      <td>122.80</td>\n",
              "      <td>1001.0</td>\n",
              "      <td>0.11840</td>\n",
              "      <td>0.27760</td>\n",
              "      <td>0.3001</td>\n",
              "      <td>0.14710</td>\n",
              "      <td>...</td>\n",
              "      <td>25.38</td>\n",
              "      <td>17.33</td>\n",
              "      <td>184.60</td>\n",
              "      <td>2019.0</td>\n",
              "      <td>0.1622</td>\n",
              "      <td>0.6656</td>\n",
              "      <td>0.7119</td>\n",
              "      <td>0.2654</td>\n",
              "      <td>0.4601</td>\n",
              "      <td>0.11890</td>\n",
              "    </tr>\n",
              "    <tr>\n",
              "      <th>1</th>\n",
              "      <td>842517</td>\n",
              "      <td>M</td>\n",
              "      <td>20.57</td>\n",
              "      <td>17.77</td>\n",
              "      <td>132.90</td>\n",
              "      <td>1326.0</td>\n",
              "      <td>0.08474</td>\n",
              "      <td>0.07864</td>\n",
              "      <td>0.0869</td>\n",
              "      <td>0.07017</td>\n",
              "      <td>...</td>\n",
              "      <td>24.99</td>\n",
              "      <td>23.41</td>\n",
              "      <td>158.80</td>\n",
              "      <td>1956.0</td>\n",
              "      <td>0.1238</td>\n",
              "      <td>0.1866</td>\n",
              "      <td>0.2416</td>\n",
              "      <td>0.1860</td>\n",
              "      <td>0.2750</td>\n",
              "      <td>0.08902</td>\n",
              "    </tr>\n",
              "    <tr>\n",
              "      <th>2</th>\n",
              "      <td>84300903</td>\n",
              "      <td>M</td>\n",
              "      <td>19.69</td>\n",
              "      <td>21.25</td>\n",
              "      <td>130.00</td>\n",
              "      <td>1203.0</td>\n",
              "      <td>0.10960</td>\n",
              "      <td>0.15990</td>\n",
              "      <td>0.1974</td>\n",
              "      <td>0.12790</td>\n",
              "      <td>...</td>\n",
              "      <td>23.57</td>\n",
              "      <td>25.53</td>\n",
              "      <td>152.50</td>\n",
              "      <td>1709.0</td>\n",
              "      <td>0.1444</td>\n",
              "      <td>0.4245</td>\n",
              "      <td>0.4504</td>\n",
              "      <td>0.2430</td>\n",
              "      <td>0.3613</td>\n",
              "      <td>0.08758</td>\n",
              "    </tr>\n",
              "    <tr>\n",
              "      <th>3</th>\n",
              "      <td>84348301</td>\n",
              "      <td>M</td>\n",
              "      <td>11.42</td>\n",
              "      <td>20.38</td>\n",
              "      <td>77.58</td>\n",
              "      <td>386.1</td>\n",
              "      <td>0.14250</td>\n",
              "      <td>0.28390</td>\n",
              "      <td>0.2414</td>\n",
              "      <td>0.10520</td>\n",
              "      <td>...</td>\n",
              "      <td>14.91</td>\n",
              "      <td>26.50</td>\n",
              "      <td>98.87</td>\n",
              "      <td>567.7</td>\n",
              "      <td>0.2098</td>\n",
              "      <td>0.8663</td>\n",
              "      <td>0.6869</td>\n",
              "      <td>0.2575</td>\n",
              "      <td>0.6638</td>\n",
              "      <td>0.17300</td>\n",
              "    </tr>\n",
              "    <tr>\n",
              "      <th>4</th>\n",
              "      <td>84358402</td>\n",
              "      <td>M</td>\n",
              "      <td>20.29</td>\n",
              "      <td>14.34</td>\n",
              "      <td>135.10</td>\n",
              "      <td>1297.0</td>\n",
              "      <td>0.10030</td>\n",
              "      <td>0.13280</td>\n",
              "      <td>0.1980</td>\n",
              "      <td>0.10430</td>\n",
              "      <td>...</td>\n",
              "      <td>22.54</td>\n",
              "      <td>16.67</td>\n",
              "      <td>152.20</td>\n",
              "      <td>1575.0</td>\n",
              "      <td>0.1374</td>\n",
              "      <td>0.2050</td>\n",
              "      <td>0.4000</td>\n",
              "      <td>0.1625</td>\n",
              "      <td>0.2364</td>\n",
              "      <td>0.07678</td>\n",
              "    </tr>\n",
              "  </tbody>\n",
              "</table>\n",
              "<p>5 rows × 32 columns</p>\n",
              "</div>\n",
              "    <div class=\"colab-df-buttons\">\n",
              "\n",
              "  <div class=\"colab-df-container\">\n",
              "    <button class=\"colab-df-convert\" onclick=\"convertToInteractive('df-50230a87-9c78-4250-9071-d45a586e76be')\"\n",
              "            title=\"Convert this dataframe to an interactive table.\"\n",
              "            style=\"display:none;\">\n",
              "\n",
              "  <svg xmlns=\"http://www.w3.org/2000/svg\" height=\"24px\" viewBox=\"0 -960 960 960\">\n",
              "    <path d=\"M120-120v-720h720v720H120Zm60-500h600v-160H180v160Zm220 220h160v-160H400v160Zm0 220h160v-160H400v160ZM180-400h160v-160H180v160Zm440 0h160v-160H620v160ZM180-180h160v-160H180v160Zm440 0h160v-160H620v160Z\"/>\n",
              "  </svg>\n",
              "    </button>\n",
              "\n",
              "  <style>\n",
              "    .colab-df-container {\n",
              "      display:flex;\n",
              "      gap: 12px;\n",
              "    }\n",
              "\n",
              "    .colab-df-convert {\n",
              "      background-color: #E8F0FE;\n",
              "      border: none;\n",
              "      border-radius: 50%;\n",
              "      cursor: pointer;\n",
              "      display: none;\n",
              "      fill: #1967D2;\n",
              "      height: 32px;\n",
              "      padding: 0 0 0 0;\n",
              "      width: 32px;\n",
              "    }\n",
              "\n",
              "    .colab-df-convert:hover {\n",
              "      background-color: #E2EBFA;\n",
              "      box-shadow: 0px 1px 2px rgba(60, 64, 67, 0.3), 0px 1px 3px 1px rgba(60, 64, 67, 0.15);\n",
              "      fill: #174EA6;\n",
              "    }\n",
              "\n",
              "    .colab-df-buttons div {\n",
              "      margin-bottom: 4px;\n",
              "    }\n",
              "\n",
              "    [theme=dark] .colab-df-convert {\n",
              "      background-color: #3B4455;\n",
              "      fill: #D2E3FC;\n",
              "    }\n",
              "\n",
              "    [theme=dark] .colab-df-convert:hover {\n",
              "      background-color: #434B5C;\n",
              "      box-shadow: 0px 1px 3px 1px rgba(0, 0, 0, 0.15);\n",
              "      filter: drop-shadow(0px 1px 2px rgba(0, 0, 0, 0.3));\n",
              "      fill: #FFFFFF;\n",
              "    }\n",
              "  </style>\n",
              "\n",
              "    <script>\n",
              "      const buttonEl =\n",
              "        document.querySelector('#df-50230a87-9c78-4250-9071-d45a586e76be button.colab-df-convert');\n",
              "      buttonEl.style.display =\n",
              "        google.colab.kernel.accessAllowed ? 'block' : 'none';\n",
              "\n",
              "      async function convertToInteractive(key) {\n",
              "        const element = document.querySelector('#df-50230a87-9c78-4250-9071-d45a586e76be');\n",
              "        const dataTable =\n",
              "          await google.colab.kernel.invokeFunction('convertToInteractive',\n",
              "                                                    [key], {});\n",
              "        if (!dataTable) return;\n",
              "\n",
              "        const docLinkHtml = 'Like what you see? Visit the ' +\n",
              "          '<a target=\"_blank\" href=https://colab.research.google.com/notebooks/data_table.ipynb>data table notebook</a>'\n",
              "          + ' to learn more about interactive tables.';\n",
              "        element.innerHTML = '';\n",
              "        dataTable['output_type'] = 'display_data';\n",
              "        await google.colab.output.renderOutput(dataTable, element);\n",
              "        const docLink = document.createElement('div');\n",
              "        docLink.innerHTML = docLinkHtml;\n",
              "        element.appendChild(docLink);\n",
              "      }\n",
              "    </script>\n",
              "  </div>\n",
              "\n",
              "\n",
              "<div id=\"df-6fcd4e9b-75d2-4dbb-a22f-5d9a39a73932\">\n",
              "  <button class=\"colab-df-quickchart\" onclick=\"quickchart('df-6fcd4e9b-75d2-4dbb-a22f-5d9a39a73932')\"\n",
              "            title=\"Suggest charts\"\n",
              "            style=\"display:none;\">\n",
              "\n",
              "<svg xmlns=\"http://www.w3.org/2000/svg\" height=\"24px\"viewBox=\"0 0 24 24\"\n",
              "     width=\"24px\">\n",
              "    <g>\n",
              "        <path d=\"M19 3H5c-1.1 0-2 .9-2 2v14c0 1.1.9 2 2 2h14c1.1 0 2-.9 2-2V5c0-1.1-.9-2-2-2zM9 17H7v-7h2v7zm4 0h-2V7h2v10zm4 0h-2v-4h2v4z\"/>\n",
              "    </g>\n",
              "</svg>\n",
              "  </button>\n",
              "\n",
              "<style>\n",
              "  .colab-df-quickchart {\n",
              "      --bg-color: #E8F0FE;\n",
              "      --fill-color: #1967D2;\n",
              "      --hover-bg-color: #E2EBFA;\n",
              "      --hover-fill-color: #174EA6;\n",
              "      --disabled-fill-color: #AAA;\n",
              "      --disabled-bg-color: #DDD;\n",
              "  }\n",
              "\n",
              "  [theme=dark] .colab-df-quickchart {\n",
              "      --bg-color: #3B4455;\n",
              "      --fill-color: #D2E3FC;\n",
              "      --hover-bg-color: #434B5C;\n",
              "      --hover-fill-color: #FFFFFF;\n",
              "      --disabled-bg-color: #3B4455;\n",
              "      --disabled-fill-color: #666;\n",
              "  }\n",
              "\n",
              "  .colab-df-quickchart {\n",
              "    background-color: var(--bg-color);\n",
              "    border: none;\n",
              "    border-radius: 50%;\n",
              "    cursor: pointer;\n",
              "    display: none;\n",
              "    fill: var(--fill-color);\n",
              "    height: 32px;\n",
              "    padding: 0;\n",
              "    width: 32px;\n",
              "  }\n",
              "\n",
              "  .colab-df-quickchart:hover {\n",
              "    background-color: var(--hover-bg-color);\n",
              "    box-shadow: 0 1px 2px rgba(60, 64, 67, 0.3), 0 1px 3px 1px rgba(60, 64, 67, 0.15);\n",
              "    fill: var(--button-hover-fill-color);\n",
              "  }\n",
              "\n",
              "  .colab-df-quickchart-complete:disabled,\n",
              "  .colab-df-quickchart-complete:disabled:hover {\n",
              "    background-color: var(--disabled-bg-color);\n",
              "    fill: var(--disabled-fill-color);\n",
              "    box-shadow: none;\n",
              "  }\n",
              "\n",
              "  .colab-df-spinner {\n",
              "    border: 2px solid var(--fill-color);\n",
              "    border-color: transparent;\n",
              "    border-bottom-color: var(--fill-color);\n",
              "    animation:\n",
              "      spin 1s steps(1) infinite;\n",
              "  }\n",
              "\n",
              "  @keyframes spin {\n",
              "    0% {\n",
              "      border-color: transparent;\n",
              "      border-bottom-color: var(--fill-color);\n",
              "      border-left-color: var(--fill-color);\n",
              "    }\n",
              "    20% {\n",
              "      border-color: transparent;\n",
              "      border-left-color: var(--fill-color);\n",
              "      border-top-color: var(--fill-color);\n",
              "    }\n",
              "    30% {\n",
              "      border-color: transparent;\n",
              "      border-left-color: var(--fill-color);\n",
              "      border-top-color: var(--fill-color);\n",
              "      border-right-color: var(--fill-color);\n",
              "    }\n",
              "    40% {\n",
              "      border-color: transparent;\n",
              "      border-right-color: var(--fill-color);\n",
              "      border-top-color: var(--fill-color);\n",
              "    }\n",
              "    60% {\n",
              "      border-color: transparent;\n",
              "      border-right-color: var(--fill-color);\n",
              "    }\n",
              "    80% {\n",
              "      border-color: transparent;\n",
              "      border-right-color: var(--fill-color);\n",
              "      border-bottom-color: var(--fill-color);\n",
              "    }\n",
              "    90% {\n",
              "      border-color: transparent;\n",
              "      border-bottom-color: var(--fill-color);\n",
              "    }\n",
              "  }\n",
              "</style>\n",
              "\n",
              "  <script>\n",
              "    async function quickchart(key) {\n",
              "      const quickchartButtonEl =\n",
              "        document.querySelector('#' + key + ' button');\n",
              "      quickchartButtonEl.disabled = true;  // To prevent multiple clicks.\n",
              "      quickchartButtonEl.classList.add('colab-df-spinner');\n",
              "      try {\n",
              "        const charts = await google.colab.kernel.invokeFunction(\n",
              "            'suggestCharts', [key], {});\n",
              "      } catch (error) {\n",
              "        console.error('Error during call to suggestCharts:', error);\n",
              "      }\n",
              "      quickchartButtonEl.classList.remove('colab-df-spinner');\n",
              "      quickchartButtonEl.classList.add('colab-df-quickchart-complete');\n",
              "    }\n",
              "    (() => {\n",
              "      let quickchartButtonEl =\n",
              "        document.querySelector('#df-6fcd4e9b-75d2-4dbb-a22f-5d9a39a73932 button');\n",
              "      quickchartButtonEl.style.display =\n",
              "        google.colab.kernel.accessAllowed ? 'block' : 'none';\n",
              "    })();\n",
              "  </script>\n",
              "</div>\n",
              "\n",
              "    </div>\n",
              "  </div>\n"
            ],
            "application/vnd.google.colaboratory.intrinsic+json": {
              "type": "dataframe",
              "variable_name": "df_cancer"
            }
          },
          "metadata": {},
          "execution_count": 15
        }
      ]
    },
    {
      "cell_type": "code",
      "source": [
        "# 13. Create a 3D scatter plot using Plotly.\n",
        "\n",
        "import plotly.graph_objects as go\n",
        "\n",
        "x = [1, 2, 3, 4, 5]\n",
        "y = [10, 15, 20, 25, 30]\n",
        "z = [5, 10, 15, 20, 25]\n",
        "\n",
        "fig = go.Figure(data=[go.Scatter3d(x=x, y=y, z=z, mode='markers', marker=dict(size=8, color=z, colorscale='Viridis'))])\n",
        "fig.update_layout(title=\"3D Scatter Plot Example\", scene=dict(xaxis_title=\"X-axis\", yaxis_title=\"Y-axis\", zaxis_title=\"Z-axis\"))\n",
        "fig.show()"
      ],
      "metadata": {
        "colab": {
          "base_uri": "https://localhost:8080/",
          "height": 542
        },
        "id": "81JLdJzioj-S",
        "outputId": "f7cb72db-aee9-4036-86b7-c1569060b9b7"
      },
      "execution_count": 16,
      "outputs": [
        {
          "output_type": "display_data",
          "data": {
            "text/html": [
              "<html>\n",
              "<head><meta charset=\"utf-8\" /></head>\n",
              "<body>\n",
              "    <div>            <script src=\"https://cdnjs.cloudflare.com/ajax/libs/mathjax/2.7.5/MathJax.js?config=TeX-AMS-MML_SVG\"></script><script type=\"text/javascript\">if (window.MathJax && window.MathJax.Hub && window.MathJax.Hub.Config) {window.MathJax.Hub.Config({SVG: {font: \"STIX-Web\"}});}</script>                <script type=\"text/javascript\">window.PlotlyConfig = {MathJaxConfig: 'local'};</script>\n",
              "        <script charset=\"utf-8\" src=\"https://cdn.plot.ly/plotly-2.35.2.min.js\"></script>                <div id=\"cb04a254-e6dc-4070-9bcc-1ee165c06685\" class=\"plotly-graph-div\" style=\"height:525px; width:100%;\"></div>            <script type=\"text/javascript\">                                    window.PLOTLYENV=window.PLOTLYENV || {};                                    if (document.getElementById(\"cb04a254-e6dc-4070-9bcc-1ee165c06685\")) {                    Plotly.newPlot(                        \"cb04a254-e6dc-4070-9bcc-1ee165c06685\",                        [{\"marker\":{\"color\":[5,10,15,20,25],\"colorscale\":[[0.0,\"#440154\"],[0.1111111111111111,\"#482878\"],[0.2222222222222222,\"#3e4989\"],[0.3333333333333333,\"#31688e\"],[0.4444444444444444,\"#26828e\"],[0.5555555555555556,\"#1f9e89\"],[0.6666666666666666,\"#35b779\"],[0.7777777777777778,\"#6ece58\"],[0.8888888888888888,\"#b5de2b\"],[1.0,\"#fde725\"]],\"size\":8},\"mode\":\"markers\",\"x\":[1,2,3,4,5],\"y\":[10,15,20,25,30],\"z\":[5,10,15,20,25],\"type\":\"scatter3d\"}],                        {\"template\":{\"data\":{\"histogram2dcontour\":[{\"type\":\"histogram2dcontour\",\"colorbar\":{\"outlinewidth\":0,\"ticks\":\"\"},\"colorscale\":[[0.0,\"#0d0887\"],[0.1111111111111111,\"#46039f\"],[0.2222222222222222,\"#7201a8\"],[0.3333333333333333,\"#9c179e\"],[0.4444444444444444,\"#bd3786\"],[0.5555555555555556,\"#d8576b\"],[0.6666666666666666,\"#ed7953\"],[0.7777777777777778,\"#fb9f3a\"],[0.8888888888888888,\"#fdca26\"],[1.0,\"#f0f921\"]]}],\"choropleth\":[{\"type\":\"choropleth\",\"colorbar\":{\"outlinewidth\":0,\"ticks\":\"\"}}],\"histogram2d\":[{\"type\":\"histogram2d\",\"colorbar\":{\"outlinewidth\":0,\"ticks\":\"\"},\"colorscale\":[[0.0,\"#0d0887\"],[0.1111111111111111,\"#46039f\"],[0.2222222222222222,\"#7201a8\"],[0.3333333333333333,\"#9c179e\"],[0.4444444444444444,\"#bd3786\"],[0.5555555555555556,\"#d8576b\"],[0.6666666666666666,\"#ed7953\"],[0.7777777777777778,\"#fb9f3a\"],[0.8888888888888888,\"#fdca26\"],[1.0,\"#f0f921\"]]}],\"heatmap\":[{\"type\":\"heatmap\",\"colorbar\":{\"outlinewidth\":0,\"ticks\":\"\"},\"colorscale\":[[0.0,\"#0d0887\"],[0.1111111111111111,\"#46039f\"],[0.2222222222222222,\"#7201a8\"],[0.3333333333333333,\"#9c179e\"],[0.4444444444444444,\"#bd3786\"],[0.5555555555555556,\"#d8576b\"],[0.6666666666666666,\"#ed7953\"],[0.7777777777777778,\"#fb9f3a\"],[0.8888888888888888,\"#fdca26\"],[1.0,\"#f0f921\"]]}],\"heatmapgl\":[{\"type\":\"heatmapgl\",\"colorbar\":{\"outlinewidth\":0,\"ticks\":\"\"},\"colorscale\":[[0.0,\"#0d0887\"],[0.1111111111111111,\"#46039f\"],[0.2222222222222222,\"#7201a8\"],[0.3333333333333333,\"#9c179e\"],[0.4444444444444444,\"#bd3786\"],[0.5555555555555556,\"#d8576b\"],[0.6666666666666666,\"#ed7953\"],[0.7777777777777778,\"#fb9f3a\"],[0.8888888888888888,\"#fdca26\"],[1.0,\"#f0f921\"]]}],\"contourcarpet\":[{\"type\":\"contourcarpet\",\"colorbar\":{\"outlinewidth\":0,\"ticks\":\"\"}}],\"contour\":[{\"type\":\"contour\",\"colorbar\":{\"outlinewidth\":0,\"ticks\":\"\"},\"colorscale\":[[0.0,\"#0d0887\"],[0.1111111111111111,\"#46039f\"],[0.2222222222222222,\"#7201a8\"],[0.3333333333333333,\"#9c179e\"],[0.4444444444444444,\"#bd3786\"],[0.5555555555555556,\"#d8576b\"],[0.6666666666666666,\"#ed7953\"],[0.7777777777777778,\"#fb9f3a\"],[0.8888888888888888,\"#fdca26\"],[1.0,\"#f0f921\"]]}],\"surface\":[{\"type\":\"surface\",\"colorbar\":{\"outlinewidth\":0,\"ticks\":\"\"},\"colorscale\":[[0.0,\"#0d0887\"],[0.1111111111111111,\"#46039f\"],[0.2222222222222222,\"#7201a8\"],[0.3333333333333333,\"#9c179e\"],[0.4444444444444444,\"#bd3786\"],[0.5555555555555556,\"#d8576b\"],[0.6666666666666666,\"#ed7953\"],[0.7777777777777778,\"#fb9f3a\"],[0.8888888888888888,\"#fdca26\"],[1.0,\"#f0f921\"]]}],\"mesh3d\":[{\"type\":\"mesh3d\",\"colorbar\":{\"outlinewidth\":0,\"ticks\":\"\"}}],\"scatter\":[{\"fillpattern\":{\"fillmode\":\"overlay\",\"size\":10,\"solidity\":0.2},\"type\":\"scatter\"}],\"parcoords\":[{\"type\":\"parcoords\",\"line\":{\"colorbar\":{\"outlinewidth\":0,\"ticks\":\"\"}}}],\"scatterpolargl\":[{\"type\":\"scatterpolargl\",\"marker\":{\"colorbar\":{\"outlinewidth\":0,\"ticks\":\"\"}}}],\"bar\":[{\"error_x\":{\"color\":\"#2a3f5f\"},\"error_y\":{\"color\":\"#2a3f5f\"},\"marker\":{\"line\":{\"color\":\"#E5ECF6\",\"width\":0.5},\"pattern\":{\"fillmode\":\"overlay\",\"size\":10,\"solidity\":0.2}},\"type\":\"bar\"}],\"scattergeo\":[{\"type\":\"scattergeo\",\"marker\":{\"colorbar\":{\"outlinewidth\":0,\"ticks\":\"\"}}}],\"scatterpolar\":[{\"type\":\"scatterpolar\",\"marker\":{\"colorbar\":{\"outlinewidth\":0,\"ticks\":\"\"}}}],\"histogram\":[{\"marker\":{\"pattern\":{\"fillmode\":\"overlay\",\"size\":10,\"solidity\":0.2}},\"type\":\"histogram\"}],\"scattergl\":[{\"type\":\"scattergl\",\"marker\":{\"colorbar\":{\"outlinewidth\":0,\"ticks\":\"\"}}}],\"scatter3d\":[{\"type\":\"scatter3d\",\"line\":{\"colorbar\":{\"outlinewidth\":0,\"ticks\":\"\"}},\"marker\":{\"colorbar\":{\"outlinewidth\":0,\"ticks\":\"\"}}}],\"scattermapbox\":[{\"type\":\"scattermapbox\",\"marker\":{\"colorbar\":{\"outlinewidth\":0,\"ticks\":\"\"}}}],\"scatterternary\":[{\"type\":\"scatterternary\",\"marker\":{\"colorbar\":{\"outlinewidth\":0,\"ticks\":\"\"}}}],\"scattercarpet\":[{\"type\":\"scattercarpet\",\"marker\":{\"colorbar\":{\"outlinewidth\":0,\"ticks\":\"\"}}}],\"carpet\":[{\"aaxis\":{\"endlinecolor\":\"#2a3f5f\",\"gridcolor\":\"white\",\"linecolor\":\"white\",\"minorgridcolor\":\"white\",\"startlinecolor\":\"#2a3f5f\"},\"baxis\":{\"endlinecolor\":\"#2a3f5f\",\"gridcolor\":\"white\",\"linecolor\":\"white\",\"minorgridcolor\":\"white\",\"startlinecolor\":\"#2a3f5f\"},\"type\":\"carpet\"}],\"table\":[{\"cells\":{\"fill\":{\"color\":\"#EBF0F8\"},\"line\":{\"color\":\"white\"}},\"header\":{\"fill\":{\"color\":\"#C8D4E3\"},\"line\":{\"color\":\"white\"}},\"type\":\"table\"}],\"barpolar\":[{\"marker\":{\"line\":{\"color\":\"#E5ECF6\",\"width\":0.5},\"pattern\":{\"fillmode\":\"overlay\",\"size\":10,\"solidity\":0.2}},\"type\":\"barpolar\"}],\"pie\":[{\"automargin\":true,\"type\":\"pie\"}]},\"layout\":{\"autotypenumbers\":\"strict\",\"colorway\":[\"#636efa\",\"#EF553B\",\"#00cc96\",\"#ab63fa\",\"#FFA15A\",\"#19d3f3\",\"#FF6692\",\"#B6E880\",\"#FF97FF\",\"#FECB52\"],\"font\":{\"color\":\"#2a3f5f\"},\"hovermode\":\"closest\",\"hoverlabel\":{\"align\":\"left\"},\"paper_bgcolor\":\"white\",\"plot_bgcolor\":\"#E5ECF6\",\"polar\":{\"bgcolor\":\"#E5ECF6\",\"angularaxis\":{\"gridcolor\":\"white\",\"linecolor\":\"white\",\"ticks\":\"\"},\"radialaxis\":{\"gridcolor\":\"white\",\"linecolor\":\"white\",\"ticks\":\"\"}},\"ternary\":{\"bgcolor\":\"#E5ECF6\",\"aaxis\":{\"gridcolor\":\"white\",\"linecolor\":\"white\",\"ticks\":\"\"},\"baxis\":{\"gridcolor\":\"white\",\"linecolor\":\"white\",\"ticks\":\"\"},\"caxis\":{\"gridcolor\":\"white\",\"linecolor\":\"white\",\"ticks\":\"\"}},\"coloraxis\":{\"colorbar\":{\"outlinewidth\":0,\"ticks\":\"\"}},\"colorscale\":{\"sequential\":[[0.0,\"#0d0887\"],[0.1111111111111111,\"#46039f\"],[0.2222222222222222,\"#7201a8\"],[0.3333333333333333,\"#9c179e\"],[0.4444444444444444,\"#bd3786\"],[0.5555555555555556,\"#d8576b\"],[0.6666666666666666,\"#ed7953\"],[0.7777777777777778,\"#fb9f3a\"],[0.8888888888888888,\"#fdca26\"],[1.0,\"#f0f921\"]],\"sequentialminus\":[[0.0,\"#0d0887\"],[0.1111111111111111,\"#46039f\"],[0.2222222222222222,\"#7201a8\"],[0.3333333333333333,\"#9c179e\"],[0.4444444444444444,\"#bd3786\"],[0.5555555555555556,\"#d8576b\"],[0.6666666666666666,\"#ed7953\"],[0.7777777777777778,\"#fb9f3a\"],[0.8888888888888888,\"#fdca26\"],[1.0,\"#f0f921\"]],\"diverging\":[[0,\"#8e0152\"],[0.1,\"#c51b7d\"],[0.2,\"#de77ae\"],[0.3,\"#f1b6da\"],[0.4,\"#fde0ef\"],[0.5,\"#f7f7f7\"],[0.6,\"#e6f5d0\"],[0.7,\"#b8e186\"],[0.8,\"#7fbc41\"],[0.9,\"#4d9221\"],[1,\"#276419\"]]},\"xaxis\":{\"gridcolor\":\"white\",\"linecolor\":\"white\",\"ticks\":\"\",\"title\":{\"standoff\":15},\"zerolinecolor\":\"white\",\"automargin\":true,\"zerolinewidth\":2},\"yaxis\":{\"gridcolor\":\"white\",\"linecolor\":\"white\",\"ticks\":\"\",\"title\":{\"standoff\":15},\"zerolinecolor\":\"white\",\"automargin\":true,\"zerolinewidth\":2},\"scene\":{\"xaxis\":{\"backgroundcolor\":\"#E5ECF6\",\"gridcolor\":\"white\",\"linecolor\":\"white\",\"showbackground\":true,\"ticks\":\"\",\"zerolinecolor\":\"white\",\"gridwidth\":2},\"yaxis\":{\"backgroundcolor\":\"#E5ECF6\",\"gridcolor\":\"white\",\"linecolor\":\"white\",\"showbackground\":true,\"ticks\":\"\",\"zerolinecolor\":\"white\",\"gridwidth\":2},\"zaxis\":{\"backgroundcolor\":\"#E5ECF6\",\"gridcolor\":\"white\",\"linecolor\":\"white\",\"showbackground\":true,\"ticks\":\"\",\"zerolinecolor\":\"white\",\"gridwidth\":2}},\"shapedefaults\":{\"line\":{\"color\":\"#2a3f5f\"}},\"annotationdefaults\":{\"arrowcolor\":\"#2a3f5f\",\"arrowhead\":0,\"arrowwidth\":1},\"geo\":{\"bgcolor\":\"white\",\"landcolor\":\"#E5ECF6\",\"subunitcolor\":\"white\",\"showland\":true,\"showlakes\":true,\"lakecolor\":\"white\"},\"title\":{\"x\":0.05},\"mapbox\":{\"style\":\"light\"}}},\"title\":{\"text\":\"3D Scatter Plot Example\"},\"scene\":{\"xaxis\":{\"title\":{\"text\":\"X-axis\"}},\"yaxis\":{\"title\":{\"text\":\"Y-axis\"}},\"zaxis\":{\"title\":{\"text\":\"Z-axis\"}}}},                        {\"responsive\": true}                    ).then(function(){\n",
              "                            \n",
              "var gd = document.getElementById('cb04a254-e6dc-4070-9bcc-1ee165c06685');\n",
              "var x = new MutationObserver(function (mutations, observer) {{\n",
              "        var display = window.getComputedStyle(gd).display;\n",
              "        if (!display || display === 'none') {{\n",
              "            console.log([gd, 'removed!']);\n",
              "            Plotly.purge(gd);\n",
              "            observer.disconnect();\n",
              "        }}\n",
              "}});\n",
              "\n",
              "// Listen for the removal of the full notebook cells\n",
              "var notebookContainer = gd.closest('#notebook-container');\n",
              "if (notebookContainer) {{\n",
              "    x.observe(notebookContainer, {childList: true});\n",
              "}}\n",
              "\n",
              "// Listen for the clearing of the current output cell\n",
              "var outputEl = gd.closest('.output');\n",
              "if (outputEl) {{\n",
              "    x.observe(outputEl, {childList: true});\n",
              "}}\n",
              "\n",
              "                        })                };                            </script>        </div>\n",
              "</body>\n",
              "</html>"
            ]
          },
          "metadata": {}
        }
      ]
    },
    {
      "cell_type": "markdown",
      "source": [
        "The output wasn't showing in the github, that's why I'm pasting a screenshot of the result.\n",
        "\n",
        "![image.png](data:image/png;base64,iVBORw0KGgoAAAANSUhEUgAAA1gAAAHGCAYAAABpbCqyAAAAAXNSR0IArs4c6QAAAARnQU1BAACxjwv8YQUAAAAJcEhZcwAADsMAAA7DAcdvqGQAAIywSURBVHhe7d0PtKV3Xd/7Z2bOnDP/Z/IXCEu4KjZJqYWAidqEuyC5JGAtCQUUqGhSYquJxqi0GQtyWUjayS0KBRLbGi6RaOBKqInVQsJNdN0ktSZCoK2LULX3qssIhCTzf+acOWfmPu/f3r/Jc57z7L2fv/vsfeb9WuusOWfP/vM8z96T/D7n+/t9f+tOpBJJkiRJUmPr+39KkiRJkhoyYEmSJElSSwxYkiRJktQSA5YkSZIktcSAJUmSJEktMWBJkiRJUksMWJIkSZLUEgOWJEmSJLXEgCVJkiRJLTFgSZIkSVJLDFinsH+x5/bkdW//58lTT+/t36KmuJZcU66tJEmSTj3rTqT637fiD/7zl5Pr/8WH+z/1fO8rzk8+dvPPJFs2b+rfUny/6Of+6Q8l73zbD/R/KufwkaPJT7373yR/9KWv9m/p+bZzzk7u/Oi/SM46Y1f/lnYxkP7Sf/0fK17jT/7H/5dc+/P/Orn27X+/8rk0Meg64NZ/eWPy6r/38v5Pg4+9jKqPJXi846f/ZfJXT36zf8tyO7ZvTW7/5X+WvPRv/S/9W6ZTPM9X/N2/lfzL3df2b5UkSdKpotUKVgxNBKQ/+YM7wtcffPbDyZNffzr5h+98b2GlhEF/vC9fv/Xv35fcftfvJd//D64PIaUM7nfZD/18+P6xz/3bZa+NN1z97tLPtVYQarPXgveE9+bjn/pP/Xusjitfd8nJY8p+/eF/vHXqw5UkSZLU+hRBAlO2YkN14y3/4NXJvgOHkm+WmIrGIPuB3/rl5PzvelGoAJUJRr/5H/7vZOf2rckt7/6ny6pkvPbn7/o/kht//M39W05dvCeEm8/8xz9wSqAkSZLUkVYDFtPPslPQ6iIk/fxP/HD4nvA0DFPivv7Np5Nznn9GsnXLc+Eq64ff8JoV1RGqbS999dXLvmJ1h+f8xz93y4q/5zb+LmKa3L2ffzhMe3v1m24M96Hy9jtf+M8hHO5PQ+Wv/LvfOvn47LqcotfIV5cIlzwft2ePN/s8VXzni88pFXR5/uxx5V9v0Hm3USWM51m0NiweF/cBf8/94nHGr/zxxuvI4/Lnxm1F70V8jYj3gOd47MtPLLtvlTVsPEf2NfKfJ0mSJE2/zptcMFAlZLAWqcoUsG//tueHKhbrfIYNYAljzz/7jLDm6FP3PNi/dTgG2b/wr34tTEeMU9SYTvjnf/HkyQHv9q1blv090+3A+qZ4H9bYUBVinRePj1Pd3vDavxfWE7GuKDtdMq7JYcDPlEaOO/4dj6e6lA8H4Prd///88YrnaVsMGgTWOL2Q4+I9yIaBQefdxhQ/AjpVUMLbh37t7v6tvXBCqMuvIyNYx2PIHm/RdWSK5OX/6/ecvC/nwG0Xvv4nkh998xXLbt/zsbtWfO4IzDf84kdD+I/3Za0Va66GfUbjdeX9zR4r7/+gqbOSJEmaTp0ErDig5Lf0DFQZVFZt9BCDU5mKy3t+5kfCmqNstWhQhYDAx0D9X/3Cjy8LBEwnJDjwunz9m1/66WV/z20Mwr/6p3+Z/L9/9fX+rfVQlSM8ctxRnEr5+488vqISREhrGqq4Do889t/CVMqzBzSlIKByfgQIzhcc1y+/77pwe9kAOwzXPvsexa9sBYwAxTlzX4IVt7Muj9uy4Ypj+z9/5abwZxSvY1Ewz4ezf/QP/7cQgotu53P3J19b/j4UNeKI9/2d+/9z/5aVHn38iXD9uI7ZYy3zWEmSJE2XTgIWg3MGvvyWni5z/Ia/KOy0Jft6DMIjqlpUJ7KvTZWKystLzx1dbclP6RrU9bAKBv0M/i++8LtPhpjo+175t8OfT32r/YrGB/7Nb4Trsfun3r5skJ/FtSH4UT3MIpARzPj7pqgOxQpO9itfAYtrxgjNP/RP3pe85uILBob0/LQ/HjMuZa4N1cei6xqrtG1cV0mSJE2GzqcIMphnUM/gnt/kl0UgYqrasIpLEQbh2YE7gSs7fbDMYJYQxNoaqibZaYJUOpqiGkfVIl9t44sgwTS0NsRwGZ+bUEclMVupyYrXuwhr25iKx993FZKLxMokgfhnCxqVxLVV8dyy7/m4xGszSLyu+feDL37mdkmSJK0dnQcsnHXmrjC9qspv6pmGx7Qq1rgMqriU8YbL/14YoMfXptHDKEzZIgR1sS9TrHgQAmIgyH8NCkFV5Nu0001x2HWkmsaUzCKHDh8Nrfb5+3zVrUux6sZ6rJtu/ncrwl3sHtnlPmejxGszSLyu+fcj+9XVmjpJkiSNX6sB66Mf/w+FC/aZ8kZlpky4ieLguahykcWg+yMf/+zAykqsGMXX5k8G7Pn1Nfi/fuf3w/MQxspWzgadUwxSebHiwXqoQce8WjiXojVm+WuIQefdFqZnsh6NCiKVw2wVElw7KkPDukeOQ7w2NM8YZNB1lSRJ0trTasD6m6eeCW27sy2umcZFxz5+g3/RBef1bx0sTvticJ1vCjDIl//kz8J0KwblWTwX7dJZ5/K2qy4Nt1EdYm0Px8TfR6zjue8PHg3fM1jOhzDOqWgNFoPnosA2KEhR0aCJBAPubEdC8P3P/OJHlx3XOHGNuFY//77bTgZl/uTn7DXEoPNuQ77zJO8ZFT9ui58triPr2PLBhc/AuNZgZa/NsM92vK5F+7pxvPnPrSRJkqbXuhOp/vetIKjQ/S2LwXG+QcGgwIKi+49S9LrId4iL8gPxbzvn7GVTzfLHRygjeBHM8lMHs8+V7TTHAJwGHwQR8BxxOhhhioCVX4OTvU8MiASNstcjPi8+dvPPDJ3SxzVj/VJ+il3+WmaPKWvQeRfJX4u8+HiqnVz3/Gtmr1f2Pc2/j3H9FS3R43nF60jnyOxnocrt+deJ8scZz5OprflrVvQc+c+dJEmSplvrAUtaiwhHND3pYl2eJEmS1o6xNLmQJEmSpFOBAUuSJEmSWuIUQUmSJElqiRUsSZIkSWqJAUuSJEmSWmLAkiRJkqSWGLAkSZIkqSUGLEmSJElqiQFLkiRJklpiwJIkSZKklhiwJEmSJKklBixJkiRJaokBS5IkSZJaYsCSJEmSpJYYsCRJkiSpJQYsSZIkSWqJAUuSJEmSWmLAkiRJkqSWGLAkSZIkqSUGLEmSJElqiQFLkiRJklpiwJIkSZKklhiwJEmSJKklBixJkiRJaokBS5IkSZJaYsCSJEmSpJYYsCRJkiSpJQYsSZIkSWqJAUuSJEmSWmLAkiRJkqSWGLAkSZIkqSUGLEmSJElqiQFLkiRJklpiwJIkSZKklhiwJEmSJKklBixJkiRJaokBS5IkSZJaYsCSJEmSpJYYsCRJkiSpJQYsSZIkSWqJAUuSJEmSWmLAkiRJkqSWGLAkSZIkqSUGLEmSJElqiQFLkiRJklpiwJIkSZKklhiwJEmSJKklBixJkiRJaokBS5IkSZJaYsCSJEmSpJYYsCRJkiSpJQYsSZIkSWqJAUuSJEmSWmLAkiRJkqSWGLAkSZIkqSUGLEmSJElqiQFLkiRJklpiwJIkSZKklhiwJEmSJKklBixJkiRJaokBS5IkSZJaYsCSJEmSpJYYsCRJkiSpJQYsSZIkSWqJAUuSJEmSWmLAkiRJkqSWGLAkSZIkqSUGLEmSJElqiQFLkiRJklpiwJIkSZKklhiwJEmSJKklBixJkiRJaokBS5IkSZJaYsCSJEmSpJYYsCRJkiSpJQYsSZIkSWqJAUuSJEmSWmLAkiRJkqSWGLAkSZIkqSUGLEmSJElqiQFLkiRJklpiwJIkSZKklhiwJEmSJKklBixJkiRJaokBS5IkSZJaYsCSJEmSpJYYsCRJkiSpJQYsSZIkSWqJAUuSJEmSWmLAkiRJkqSWGLAkSZIkqSUGLEmSJElqiQFLkiRJklpiwJIkSZKklhiwJEmSJKklBixJkiRJaokBS5IkSZJaYsCSJEmSpJYYsCRJkiSpJQYsSZIkSWqJAUuSJEmSWmLAkiRJkqSWGLAkSZIkqSUGLEmSJElqiQFLkiRJklpiwJIkSZKklhiwJEnSmrW4dDw5fuJE/ydJ6t66E6n+95IkSWvCkYWl5NDRxWTh2PFk/bok2TizPjl9+1yydPx4MrPB3y9L6o4BS5IkrQmLSyeSg0cWk81zG5IDh48lC4vH+3/Tc8aO2WTvwWPhe+4zt3F9+rUh/CxJbTFgSZKkqUa16sj8UnI0/RO7tm1Mvz9+8ueIgHXg8OKy4EV1azYNWYQtQtf6dekNktSAAUuSJE0dqlULx5aSA0cWk6Xjy4cyO7ZuTI6lIYrpgdu3zCT8NWFr++aZFQErj6DFdEKrW5LqMmBJkqSpQXA6dHQpOTy/2L9lJSpYczO9cHTgyLFk3bp1yabZXpWKoEXFiz9HjYCobvUel37Nrre6JakUA5YkSZp4hCLWVxGwimxI0xBhaNummfDz/OLSyfVWEcErHfqkXyfCfY8tnghBi698FayI1S1JZRiwJEnSRIpNKzbNrj+5zipvNg08WzZtCBUrQhVTAGf7QWj/oeUBiymCi2mQis/D/ebS+xG2qHIdPdYLW0wtHIXq1pY0zMXQZXVLUmTAkiRJEyXbYh0EI7DeKtoytyHZmgYcgg3TAA9nwheBiVCWr2AVPU8UK2B88f1CGtbm09cvO5WQkMVjbZQhyYAlSZJW3bCmFYQWAsyh9O9oWhGrVYePLhU2rKCqtS0NU88cWOjf0tMLZMUBK4t8xBRAQhqhiamEHBth61h6nMMQ4jj83nNY3ZJORQYsSZK0aubT4HJk/vjQphWElq3p14k0S8Xq1rA1UwQsgtjT+5cHrBjU8lMHR4lTCWnnTnUrTiVkPVh+FJWfhmh1Szr1GLAkSdLYHU5DUlG1KotpgNs3b0yO94cqT+2bD3+OQgiioUU+YPWmAK6cOlgF+WjL3Ex4Ll6H4ydsERA5zHzAyiNs9Zpk2ChDWqsMWJIkaSxi0wrCz5NPH+nfuhyhJTsNkGmBYG+rfGAahOc4Y8dc8s29R/u39MSGGE0CVhZhK1anCINMJaRiNb94vFSVjPvyWNvAS2uLAUuSJHWKatXhhee68529a1Py1L6jy6bXxXVTGzesD00raDARq1vkjrN2bloRmIbhNYoCVtHUwbYwlZA28fwJGm8MmkpYJK7ZsrolTTcDliRJah3VqqMLi2FT4Pw0wLN2ziV7Dy6EZhCECaYBLh4/HqbVZbsBZj3/9E3J158pH7DOOWPziirZxg3rKlXC6oidCg+moXLYVMJRrG5J08uAJUmSWlOmacUZO2bDn1RrCB3sXTVsLRaqBqyiChZB5/Tts6XXctURA1a2U2HRVEK6EjKVsMyeWyCI8niqcDyXpMllwJIkSY3QhOLofHGL9SzCBZ30qMqwFmtUN8AsAtPT++cb3b/OVMOqigJWXrYr4caZdZWnEhIUe9fRNvDSJDJgSZKkWghWjCK+tW9w8CEMxGmAx5aobC2FqXrcnYBVFlUvGkeM2ocq4v40s8gfV1Flq00En5n0nEfttRWRjYqmEvJVJkxynlTB1vev88wGq1vSavNfoSRJqoSmFd/aPx+m7MVQkEeIolvgmTvmQsWG+7PxL8GBu6cPq2xdxUoNx5Y3kx7XJCGgEjSpttH4gwYfG9JjpAsia9WoiMWmGYPQEGRfGj6/uXc++cazR5P9h2kSUryWTVL3DFiSJGkkmlYwcGcAvzcdzMe1Q9yezT1MA6Sqcvr2uXCfb6ahIV9J4ntCRBU8hipNWYPm53C8k4pj5ppRqaPKRiMQUP1jDRqBlQpZPmdmJyNxnZh+SSOPrz9zJIRaAlzcS0xS95wiKEmSBhrVtIIwRfc/pqZtnu3tXXX46FKysDi4eUOddumjNvDNI4wcXTgeKmZZTBHMt4hvEwGIdVFl9sGqglDFNEKuMRUtGmVwbgRaQlRRFTEvrtniT9vAS90xYEmSpGXKNq0gKJ22rdcRkGBVphsgmLpXtZtfmeYRWYMCGdPuygaSOmLzibY2Mx6EkEXgYt+t0BI/DcIErrJdCSkG8njbwEvtM2BJkqSAgTrTy9i/alj+oGrCtDWCGPdjYF+lYQWqtl2vWhkiYHFs+eOq2iyjqnEFrIiK3N5DC2GDZgITXQl5P1iXxZ9lR3lWt6T2uAZLkqRTHE0r6PD37IH5MBWwKFxRdWLa3fPSAT3Vk2cPLoQKFIP4quup6iAoVFiCFc5h0P2rNsuYdEtpWIyNMlgjR7giKD3vtE2hWcbWTTOFDT+yeEx27Rbr7Y6k761rt6TqDFiSJJ2C8k0rGKRvKGjxzTTA2A2Q+9ANkOpMXGPF3k20Ja8qvF6Fxx1PE1Ol+6fBYF3B/buaGjgpyENMi+Q9okKY7UpItWvH1o0juxJyiQhbzx5YSL6Zfj4IbgS4xTSESxrNgCVJ0imEphUMvulSxyA6Bg6CUgwwFHiYBki1imYUrOv5Rnr/ojVZrDSoUxAiAFUJTFVXNBDgBj19lW6EVfG64zYsNGa7EoaNl9PjG9WVMIuntg28VI0BS5KkNY5qFdMAGRwzBayoIyANIZhWFqYBntabBki1qnf/wYNpHrdhffXhRMW8VOt1iho3EBjW0gzBKvt6EcSGTSVk3Rr7lw3Dc8SphHyuYht4q1vScwxYkiStUQyAY7UqTAMkXRSgWkU3OkIVFY+n9vamAQ6rjEQEpRr5qheYKoSDqq8zqLJ2In1dO+b1rmd+KiFTKk/bvnwq4bBLRbhjDV6sbrEmz+qWZMCSJGnNoVpF9YlgNWj/KqbnxWmATBNjoMz0MapVZYJVVtX1VCDo1Fm7VdawU+jwZYNpDHCDphJmG2VkT4vv8w0wmGaabZTBRsmEOBtl6FRjwJIkaQ2gWsVULQbKVKv4swhBiGmAZ+2aWzYNkPVVtOmuo+p6KlDBKmpCMUyVINc7ppXnw+t2bZz5qovwkp9KyPe0f89OJaQl/PEhswK5zIR1uk1SIeO5rG7pVGHAkiRpimWbVjCAnUkHwkWoVrEHFN0AB00DpAIxag1OEZ6jauMIwlLVChZhouxDyB2DphRWDXaTbFjIaQPXkepmdiohmFLKFMEyUwmRbwNvdUtrmQFLkqQpM6hpRRyrxsEu1R6mdjENkIrDgcPpY8K0weJpgAx26+wRRViqGszqdB/k/JruYcWxrpV8VbVq2AbCOdVO1l0RmuJUwrN2Fk8lLFJU3aJKRsCX1gIDliRJU4IBaKxWDWpawX22zM2c3LuKqV1MA6TbW9y7apBjBKUa0wTrTPer0xUwVLAqvM6g6o5NLpqjQclSeoHjVMKn9j2351Z2KiHVrVFiG3iaZGTbwFvd0rQyYEmSNOFi0woGoIOaVoBpgDNpaGH6FpUGqlX5aYDDhDVOdaYI1qpgVWsxDl6nSjaiSlZU5ekyX5W91mtB9lR5P/nM0SgjO5Uw7rlVdioh1y9OJXSTY00rA5YkSRMotljnN/plmlYwDZAB7JGFpeTIsaUwBasqql91OvsRZOpUhTjHqg+rcnzZCkgMgKdSAOoS7wOdIAeJUwljo4yiqYSjpjjy9IM2Oba6pUlmwJIkaYLwm3rCUWyxPigQzM70NgVmGiCocBHIaEhQt/35oIrPKEwtrFX5Ol4t0NWZisjaM5p7nLFzLlRStm6eWVNTBLmGq4H3oWxWJQsVTSWkk+VZ6ftSdiphvroVNzk2bGnSGLAkSVpl2aYV+w8vDmzCQC6Ie1ft3LqxcBpg3ZCEukEpqpNbqjStoApS9tQIoEyX5HrRrY5pa7GSwjqzuEZomrNWzbe5Fbx2nWDDQ7JTCfcdXj6VkF8asC/bqPeFj3vc5Jg/CVq2gdekMGBJkrRKippWLC0dXxGQ4jTAs3f2pgHSfa23HmvlYLJpSKIgUid01JleyPlWbe8+KjzGALp9y0yoeDFNLV6nWEkhGOw/tBBuG7SRbhNVm3fU1bSjYhNUAWvkqxXyUwmPLZ4ITVqy78uo95xjybeBZ6qstFoMWJIkjRnVKgJSUdOKGJAYO8fpbUwDZOAZpwGO6gZYp+lExJSzjRuqDw8YbFcd8HOcVaptg6ZLIgYrqh8EUAbaC8eWBoYmrjMD+9iQIUxZ668PKtOM4VTH9Tk+5P2oIwbgGLayUwnPTt/b2Cgjbyb9vBLwo3BY7R6aVIkBS5KkMcg3rcgOCLMIHAQPfoO/dVNvehvTABl4DgsYWdxvQ42QhDpVJYS26xVDHadT5aWoPOWrQzFYMfAmgIZglbm2RVW1/LKlOGWNSiKDerowErYGDegnSRtVpDp4H8p+HuvgvLJTCfceWghNNYqmEvKRyB9L1Q6VUpsMWJIkdYipSgz8RzWtiNMACVZMeWJTYMJC3W6AtStYNatfPK7OFMEqoYxBd8xX+WCVXYcWEfoGGVQ5Y1BP8wSaMXAd823GJ82p0uAhP5WQKYGbZ9PPQPrvBfmphFYgtZoMWJIktSzbtOJZNvhNB4ODEBTiNEDux2MOpo+tWg3KYvpbnQ2DUfexVcMSmGJWZYpgNCpYZRV1HSzTeY/cQvVwZZvx4c0xhh1L25p8RpqiQjTOc82K7w1B+Jn9VLZ614LpnXEqIdMGpdXip0+SpJbQwYzpaUfmF082rShCqMiuGYrTAKlW8ZgmFSgUNcooi9BT57f/dcIS51q2ZXq8XnjmwOhgBULRoEOqcqgM6OPaIAb1yO7ndCpWSyalckawml9cOjnF89n0syGtNgOWJEkNxWoVU/roZDZoKhmhiWmALNqPFZiiaYDH0oBUtwKFZhWseq9dJSxFPGZYFSYbROP1GrR2bZCiYyIb1O3AxzEzVS2u1+L4Y8e7Mu3F1wLel1XafmsF3t9szuazP6xiLI2DAUuSpBryTStiNYUqVj6gxGmAp2/vTQN8au/wCgwBoO5aqKhuFSwWJqoGBc6lSSjMYgDPNDymTeanAlYJR+wJVnTXtqovvJexCQNhay49VipbrBMbFLLbNuAj1Dmu7STYOLNuReiuUp2UumDAkiSpAqpVDPgHNa1g3MmaEDa63bFlY6i+0G6dphXZaYCjcJ+6nQDB4+tWaRiwVm1YAUJn5WCWPiZOLYzB6vTts6EyVLTGinBUtsshDyuqYHH7sMpZHYQtjpXmGLzmuJpj0Flv3EIFa0ICFtc6fyhtBX2pLj+BkiSNkG1aQbVq2BQkghVO2zYbKhmEBNbtjNq7Kq/pOqzw+JoDTQasdcJdnT20GKhT+WHqJBUrcL0GVfgIZGVD3KCQ2WUoiYP9fHMMmi8QHmOYbENReBwHwmnRe7Ma8ntgYbWuixTV+y+vJEmnAKb7MdCnWjWsaQXiWiGCFeuYjvQfW3cg2mQdFXh83SoNA9Y6QYBzrbKHFq8Rqz0EEcIo65uGXTP+qkp1LbZ1zxvHIJywFZtj8AXWarXVHKPFrDa1eH/z1TT3wNJqM2BJkpTBYC3btIJpgIMQEMLeVf0mDM8eXAjTAGl00aT6hCadAEFXv7rHUGfTYGSn+w0TrxsVKwLT/iPHRgariPenqPV6FbxMw6eojHNbK80xCLi816uNa0azjVy+qv2LBaktBixJklJMA+y1WF8aWa1iGiDrhOKUtrhWKE4DbNoFELECVXfg3eQYGDzXCWdcsmGD22ywYpolYfTowlKlihTHViUcFXW763r9EJ+lYQY1x+DaVF2vVSKTdmK1XjeLz02+2QafDacIarUZsCRJp7Rs0woGvYOmFxEO4jTAnVs3hmBAQCiaBsiYr25Iyeqtw6r3v+o47qwz1iSc1RmkcrxFYakoWMXW9Fy7qhWpMlWyiHVh+ftzbSalypFtjjGffl+1OUbXYbEI1241XjdvZmZ9+KxmNWkMI7XFT6Ek6ZR1JA1J2aYVVKDmNm4I30cxHMS9q9jk9ql98yv2rsprq4rVaB1WzYDG2LnO6+bbog8LVhFTGStVsGqUTvJPz2tOGq451dN8cwzCFs0xisJ606mSTUxAvgq/BMi/lU1/qSG1wYAlSTplMTUrj8YWTAGMe1cRDo4tnji5dxWhpwwew2/Ym1hMA1KTSkuTgNYLZ9VeO6zdWr9+2RTKQcEqGrRX1SBUTniNsggCRZ0Eq1TBxo1jjs0xCFvYtW02rNcibMXTWa1T4NpNQkjl30Z+LViVJitSVwxYkqRTFr8BzwYQBo4Mbs/c2Ws8QEWBcMBgt2rlZCENanNNAxYBqUHAYvBZN6CFqXtVkk+KahlTLOmkGKdQjqr0xVBWFu9PhbsXTmWrUwWrquKlG4jDpzkGVVPWa1G1is0x6k4fbYp/N+O4hqOEZhu545jk4KxTx+r8y5QkaUIwSI1T2Ri4MjCmitXrIDg8HAzTdHofmLLYfIpgvQEnwafsa7ORMtU+ghWhjjVtZa8dAaJqW+2ixhWDMP5ejfVWXTRaoBqYbY4B1gMStpi+2sFLFqq7gXXb+HfLZzzLCpYmgQFLknRK27Fl5rmpbM8eDZvcNg1GUZxu2ESTZhl1m1WgTPUrNv3YumlDcuDwYqhYLRY0lRiFSl2Vw2RaYdnXKNpUuOo0w0nE55X3d+/BhRC2WK9FJ8KyzTGa4NJNQgWLz2e+QukaLE2C6f6viyRJTaXjsTiVjUEj47UmoSarjSoWx1S3MxrnwiC0TsYa1BEQMVgxjZK9v6j2Pdeivtpmw6DTX5VGFwyqy96dHJB/7tyYvHX51uFdCU0e0stO2GK9Fp0I+exmm2N0HbZWS/xM5y+1FSxNAgOWJOmUll+Hhfk0LMzmugnWwcC3qJFGFbTubhL2hgWlYYqqRDFYMWjPB6uIilHV42WQXGXaWZX7F63BQtVpiVUMes225S8BL5tvjkHYyjfHaILPRJUpml0J66/SMJnFsXUxNVOqyoAlSZo6f/31byX3fO6h5Oob9/RvaSbfLKCNYISlperT5fLCOqoGVbC6FTAqUXGKYDZY5TdVzuNxVduHs96rSuUhVLBK3j+EsYL7jtoMeNpx3jTHIGzF9VqxOcbWTc3C1rgqdMPwmc7vgWX1SpPCgCVJmhoEq3fvuT25Jg1WT/z5XyU37762/zfNzM4sH5j1mkM0/19kDClNBrMMIpuENNrF162AUanIB6tRa29o3125gkUIrHCOVC7KXlOOZy2Pu8usheIXBoSt2ByDz2QMWzQoqfL5DBWsSQhY4Tj6P/S1Ma1XaoMBS5I0FfYfPByCFe7/9AeT3T/19uSFzz8z/NxUfjpgHLS2MWBrGtYYyzYJaXUqYLFiRTODfYePlQpWEferOk0rVLAqPIRDqTLtsSi8se6rSXCdVoQtOhEyhZCwRTWrSnMMqkRlPwtd4t9EfoqgFSxNCgOWJGkiEaioWEU7tm1JLnz5ectu4z58NcV6nPxge35xqZVuggxomz5Pk5BWtuMe92Gwna1Y1WlTz+A7Ti0si4FylcdQQSk7DXG1wsA4xvpN1hsR3PlsFjXHGBa2Grxkq7i++fe2jaqz1AY/iZKkiRKnAX7/D16XXP7Wd4V1VjFEXXf1VcljX34iufPu+8Pfxft88jP3hb9vYi5XxWLwWeY3+qMwTbDpei6eo25IG/VYghUNEGhVv3Fm3bKpgAy661TxmFpYdSBepZrEcVUJMDGI8BrZ46rymlWNY6+otl6DsJVtjsGUTcLW2WnY5rORvU5cy3zlaDUQpljjmNVl4xKpCgOWJGliEK6YBnjO885I/uQP7ghTAZ9Mb3vwoS+Gv2dKIFWsJ/7sL5MP3PTO5A9/97bkHW96bXLLrZ9aVtmqo7N1WC08T68KVn/w2DuG5Y9n0MzmygQrqkdFa6z4vk6wq9p2ndepWo0pG454boII0x4517j2KI0nvTtoGcJWbI6x99BCuO2sXXMnm2PwWcl8RFYNx8HU0qwxZFqpFAOWJGliEKB+JA1M11/zxpM/n/eSFyUPPvJ4+Bl3fHh3aG5x0QXnh2mD3Hd7+ueDD3+pf4968uuwqPww6G9a5YiBpcnzNO1GyDHEToLZYIVhzSt43TqDVgbpVaorveOrdv+yCFZUNuK0x9jogQB4+o7Z1tqXr5YuG04Q7PPNMbiefLEH2mpdt/i6+VOfcYqgJoSfREnSRPnRt1zR/66H8HTOiGYW3IevJorWYdHBr411WE2fpzfNsP6+XFSwNs2uPxmsmOI1LFhFVAjqHDePqxKYqiJUbKADxxCz6XHH9WTcP3uuBIfD84vJgcOL4WeaPJy+fbaVKaGoEgCb6jBfLcM1oznG0YWl8LV5dkO4bnym2rpuZRVNU2z6ixCpTeP9FyFJUkUPPPyl5NJLXtH/aaVbP/HbYbLXsPuUlQ8TbPLbxuCx6WbBKJrmVwYDT86LdtwxWFGVKBMC4uC9aqWC16m6uTGPKTtI5rgG5atYoTtt22zYDJlgNWhNGMGLa/HNvUeTg0cXw7qjNvaJGpcRGbMTXF8+z88cWAjNMdgGoExzjDbxec5/fpv8AkNqm59GSdLEevTLT4Q/L3r5eeHP6IGHvph83w9el7z01VcnT37j6eQTH94dpgs2tSk3OFw4tpTMtTBwIxw1HXgyoKyyYXAMGlSseH2+ygarLB5XOSyFY632mF5VqvxjCE1Z2fOl2vKNNDTFzZBZE5Zf48VlyJ4Xj2Hd0f5DC+l9e1WtcQWGuqquW2tDqB71P0ME3WxzDELyoOYYbeJ58+uvOnopqZbJ/a+GJOmUd9sd94QmFqCT4D2feyg0s7jsVa9MPvJLPx2aXLAeq639sPK/BWdqHkGh6Ti2jamGZatpRUGDYFX39RlEVwl2YHPfqoPrqsEvtp/nK3ZBjOdb1F4+fziD1i7xnnO9sq3Lp6mq1bVBa+uyYevZA/PhtmxzjDavHf8meW+yrGBpkvhplCRNJKpXdAu88ILzQ9t2ugs+9pWvnVxrFZtctIlBWj4Y9KbmNfvfJYNPBoRNpgn2jmPw44uCVTZo8Pp1Brm8btWwRKCsWl3h+KpUvQhIsTMgmPo4aN8urn9RMBi2l1Y2MMQGD5NW1VrMhYxxYFriqDAcQ2q2OUbs3thG2OJtyx/DalTzpEEMWJKkiURXwAMHD4cq1oUvOzf57O3vD9WqtkNVXv434YSVTelAvqnetLn6/9sdVAWjmcMZO2ZHVnAIJHWCYqziVUE4qVpRYLxcdioiwYrn56vMmrKiahWBrmxu5LrS4CFf1WJd26BxfdVrtlbFaxfDFtsNZJuK1MlF7oGlSbfuBDV2SZImDFMBCVi0aR+nw0cXk73pgDAiwGzfMpM8vb+3J1BdcQ8hBpt10UggbASb/p87HtfM+vVh4DqoehNReSEcUJWpou75n7VzLoSfsqMMwgoD7mHXh2OhecX84lJCF0HOhY52ozCFkDU7RzLXiOfasmlDaIJRB8e6LX1PaQ1+ZH4xNMmI50olkSmd2ddrG8GEoEKDjnGhkkmwbPqaHDvv95a5mRC4+OzyPhLGymCNF2E3+9ni34ZVLE2K+r9KkySpQ3EPrHFbUcFaPN6oRXo0aopfGTxHr3oyG4IGA/hBFas8Bq91qip1pvuhasWMdVuDKlhx+mO2MyANSJqMp+Marrq4nrGTHuIUOILXkGJaa1YrTLTxe3megs9uvjkGIYkwPGwKJqfNNMXsYfA2Gq40SQxYkiRlELDy4+75dDBPxaOJpkEtbJibjizZf6hKsIoIMHUCHgPZOsGMKXvrKwQY7p8fIxetK4udAQkxZacUFt2X29rA9cmuNyIoUNnivV5rY37ej0HNQeri6eJat6f29ppj7No6G8Jq0SbQBKkVHSQbTL2VuuAnUpKknNlcEGIdUtU1RUUIalVDDsGKDXM3p3+yOS4VpSrBKmrSyZAKQ9Xj5jFVKkQM3OPmwTxuVGdA7j+sSUXWoFDQdtWDYw1NMQ4fC+eQrWp1YdyrPAjMw9a6NcVzE1aZgkhY5f3NN8fgM7yYW3/VtDIstc2AJUlSzlxuQHw0Hdxvmm3+v0yCWj68DZINVkyLYw0U61SqhJasOBavkyl61aVqD2TNU5XKF8dHvirbGZAAV/ZShLCXO5Y651QFYThb1WJNWlFFpom2q0mjdHi5ViCsFjXH2LFlYy9cZ46lSqVUGgcDliRJOfnpgE2qP1kMGhkoDhODFVUPAgbBKk6La1pJq9tynrBU9XUJNWWn8IHzRjzvUZ0BUTdsjlOsarFeC9OwgfEgVPx4X8eNa8i6u9DFMf1MzM6k/0ZOe+46TsPnQKeW6fvXLUlSxwgT2TEbhQIGlk2nItFaelDAyQcrBpRFAaPONMOIgFbnt/1FFaBRmL5WpuJBN7l43rzOoRLBCmXuEw1qaNGfkTgWHC+hkZCweLJZSf19oVYjVPCSFS5768K/w+PHQ0Ur2xyDayhNEgOWJEkF8lP55tNBcdnpfYPEPaWyA+qywSri7+ou6mdAWqdyQuWrSjUKYYrgkARDQGAvJKbNPXPgufMuO20vu2ZrlEGXM98soU2DrhchgWmPk7yB8SAc67inJebxCwoCKocRm2Pk12RJq22y/yVLkrRK8uuwmKaUv60OwgqdAAkWVYJVdGyxXkhCnaCEOi3NGQAX5R+eJ3YGZE3ZU/vmQ/AEoaxshW3Q8xchFBQ1tChbZetKXGeU38C4bFWrzOelbVz31UQA53OS5RosTZrm/6eQJGkNmslNiau7fimLcMEAdde22VANqBKsot5x1BtQspasztSyWHmrKkwt7L8ef9KgYFhnwBPpdahyfGUrUFzzosrYoODVVNXcw/HFaky2oQMhfJI65PHe0O5/NRGqsyGPY+riPZSaMGBJklSAfYyyY/0YguoMeBkExqoNY0EqN1WDVdSk4QYD0zpBCYSlquPY3jS+Xst1pgNSMfrmvsH7d4UKVoXXqFNZy2v48EJNptFlGzqAMF7U6n01qjahycUqBqxewOv/0Gf1SpPIgCVJ0gAzuSAzv7hUKdzEYEXHM8SKVZNKGGP3OmEnqlsBIzRUPW6O9fQdvWodXfRo8jAse4SKV4Vj61Wg+j/UwLF02aq9CY6t1xSjV9Vi+uDzT+9VtTjk1Tjs1b5W/NtzDyxNAwOWJEkDsFYqi+pCmfVP2YoVoYGOZ7FiFSsATcaqPEfdkMbAvU6TjCodCGPjDo6RroBlq3VVK1JVAlLReqsmlaZx4nPH9EE+RyCwE7jGPTWO6XmrWcHidPPvmRUsTSIDliRJA1Rdh5UPVlSsivZzCtP8agYkhOOoOU1wPh2s1/mtP+cz6nGc/xk7ZkOTBjoD7jt8LFlXYQDcmyJY8f4ln79X7Vp+X96WaRqgky34PLH57pH5xRD2s1WttY4GLTR5yWry70jqip9KSZIGYB1WVqjipCPZfJUlG6yoNgwKVhEBqUlHQo6j7uND9atGOBv2uOz5H5l/rjMgDRGqhDkCRJUpgjTFqBIs8lmq6uMnCeGS6mCsatEUg3VudTtMjsJ16rKtfRl8NvIVrPwvQaRJ0M2/QkmS1oj8gDXbZCIfrGJnvFHTqKgiNRkIs2FxPuSVVfexPC4fRgadf8R1qDqNrcognstctu08x1I0nbCraXZVKndNxKoWTTG49k03MB6E68Q0y9XE5409sLI6evukRgxYkiQNMZur2hCOWGM0LFiM0qQTIOq2TQePrfPa+ccxLY1rENaYDTh/Qk3V41xKE1bZAEg1o0mQqdq1sIqu81U+WJJ96E7Z1QbGvNxqr1ljY2lCddaMUwQ1gfxUSpI0RHYqHmGLcMWAtU6wihinllnTNEyj/bAaPJbKCA0sGMDTvILqyTB1ppWVDVhcw7JBhvtyzDz35vQ97LLysco5JHw2m2xgXITGKKMqs13LN9ko+zmRxs2AJUnSEKzDIljRvOG0bbNhQ1gcWagerLJ61Z36/xvuVbHqPX7QdLlhCJYgcFbZIJmKVJUwV3UQX2WQTVdI1ilxDmfv3JRsSwNHk0riIOPajJcK3DAEvewGxk2qWqs9FY/3OR/Wu3jvpDb4yZQkaYTT0kE5zRtixWpUN8Eymq/DOlH78VW6EDKwJVxS9aGDG+dfJQQxyK8S5mKlqYyyx8E5bErDFcfBflyEQ97Lg2n44BoWbeS71mSrWjT32LmlV9XqXZf+nYZgDRbvzWrhPczvgVUhW0tjtbb/ayJJUguoAmSnAjJYbdIFEE2m6aHRFMESIYYBbbYz4NP7F9LzXgq3V8Fxlg1MIDNVaVzBupxBsufAOXP82VBGYOC9jBv5EjhipW6tIvD2mmL0qlphymfYV2v49EHekpJ5thN8hvJrwKxgaVL5yZQkaYR8mGpafcJChSpSkSaNMugIOCicZUNJfp1ZmWCWVyUwgQBUpXHFoHxFUGI6ICEqnEMakvPHHl4rvYnzZBrd/kMLyUx6Tc/eNfl7S1V9H4rE885uYDyomsd7sppNLvgM5StoXXWAlJpq9n8HSZJOAfkgQzjK75FVBwPGulUoxro8vmpFCfmOgNGozoBV97VCqDJVeAyvUSWQ5dflcD1owkFIYDrgqCYcWVyXOI0OrFc6FTbxjVUtNjCO1bz8Bsa8JauYr8JnKL/mzD2wNKkMWJKkNemezz2UvOna9yavfeu7kk9+5r7+rfXwm/L8b/Xnjy2taOFe1XzDKlZvily9QSYhKg6eqfaU6QxI1axq1aDqvluxqlQWezPx/HzFytu+w8dWNOGI98vqXb+V1z8Gjhi0qOzw3FWqluOornQReAZVtVhzOK7mHUV47/J7YLVRxZO60Oz/DJIkTaA9H7srufOzX0hu3n1t8o43vTa55dZPhcDVRD5MDaoCVcGAsclUQ9Y31V0LxnQvKhWx2lOmMyAD+qqD2t5eU+UfMyj0DMJ55KcDsh9UXp1sEIMWlZ2jC8fD9SrbEGMM+arTwBPPnaDFGkTew51bNy6rao1Tfg8ssvI4QqxUR7P/M0iSNIHu+fzDyXU/dmVy3ktelPzoW64I39/26/cmf/31b/XvUV0+yBydX0o2zTb732ivUUX956gb8pjmN5MOWGlbXqXlOqpOa2SgXvUYy+Yrqho8N1+jpgNyfk0G5NlNfEc1xKBatlZwKpw7Z0TXRdZitbmBcVlMB8x+RptscSB1zU+nJGlqEZjuvPv+5NZP/PaK8HTg4OH+d0ly/TVvDH/edsc94c868iGhSZOJqE7TiKzQoS837W2YOI3u9O101TueHMl11SuD+1fdQ4vjrPKQ7PTFIvE8YiOOsq3jqx53kTiFjqBFwMivVULFS1pLlfe9LXSTbHsD4zI418X09bLqrl2UxsGAJUmaSoSqa27ckzzxZ3+ZPPaVr4XvY8i66OXnhduyqGI99uUn+j9VR/Uj+xt7frNftZpThPBRdy0XoYKANmpwmw8kYQ+oI4u1jj1U3SoeL9P4KjWuGHJ/qkacC3tycR5VwluFmYcjcR3Dflr9tUprvSFG9trx2W9rA+My+Cis2AOrwudJGrf2/xVIktSxRx//anLvfY8kn/jw7rDO6o70T8R1VldecXGYJpital14wfnhZwJZXfkg1LRJBZqu5QqBZ8B0KQb7DPqXtSs/2XK9esMKsKaqatWtFwTLnyMD+Hy1iZAY14sRbBjgg2pR2fCW7ziIpfTGJtUgjjXbEIOgwVqlcahafayLt6Lo2oGgWbSBcZtVLVrn51vEr0YFTyqr2f8VJElaBRelYYlw9cLnn9m/JQnrrZ78xtPh+8te9crkwpeft2xKIPfdvm1Lsv/Aof4t1eWDEIPLTbPN2rXzHE02LR4U0Kj0nJ0O9glDReuTGK+WqX7lEdSqVKPAY6oMiLMhLlt9e+bAyvVifF923yzCVFuD/rwYtL6Zhlj2SaONf9mGGJOOID5qXdlzQbNX1eLfRdzAuGmVl88bn6EsK1iaZAYsSdJUyoYrUJ0iZEVUtqhiMZUQsVX7ed/14vBnHfkgNKx6VBbP0eS38XQizFaUYst1BvajGljw2pXDEuGn4mN6nQT7P5RAJYRB/YrpgLlBNuikV+W581W7EDQbXP8iNIWgjX+2IcY0By0uT76CNAy/NMi2ej9j51yja8DnO78HlmuwNMkMWJKkqbf/4OEw9e/SS17Rv6UXwKhy0a79pa++OnnwkceTz97+/mTHti39e1TH4DxbLYrBpckAPQSWdLBYt7LC4n8Gm0xfJFhtTkNJ2c6AvSYb1YYC8XirCGvVCqpsgzCYZppdfjpgkaL9rQYpClNVgkNVMWgQtLZtmgnvT1vrtKq0sm+K6ZqjPktFuLRUtYZtYFwG/+7ye2BZwdIkM2BJkqbevZ9/OEwJzFe1aHbxX373tuQP0y/WaeX/vo58FWt+canRFD80qYQx8GU62mnbZsMg9un9C6UHwyH41KgE8LgqA2RCUJn7E36oWBGuDs8vlgqJVcb9XYapvGwAImgxTZPgi2lriFE1UBfJV7XiBsZlqloz6b+N7PvM5yRfiZQmSbP/I0iSNAEeePhLyWWXvCJME2RK4NU37gmNMKImVau8onVYTad/8RxVQ1oMI6xNIvCwPik2sCgrBLsKlaWIoFIlEIZK2YiKC00R4nTAp/fNh/MrI1TUSlZzGKTnKx9cuzYCRNagIMex5hti0Hmv7LnmlQ3SbeA6tSFb1aIyWaaqxdubPVerV5p01f+rKknSBHn0y0+E9ut80aqdKhXrr2iE0YUu1mHRFKFs0GEwzmA0Bqve2iTWYVU/hl44qT5YJTBVHeQOykBU0Jg6t3Fm3cnpgL01W+Wfv2S+Cmu7xlH4GFUoiyEj7ifFeznJ67RYp9dFloubNxOo4wbGdLzMXgc+n/kOhq6/0qSbzH/JkiSVlY5WCVWXXnxBcv+nP5hc9fpXtTIVcJD8OqwQNtLbmgzcw6bFJQISTR8YjFNxYboZg3SEgFZj0BkCVp3Hpedc9fXyzTz4nooVmx7nuwMSQKoc16AW4nk8fT64cVvVRh9t4TwJlITkSW6IQfjpcnol/4Ziq3c+y9kNjPkc0P0xywqWJp0BS5I01ahUxWA1LvkwREBiHVRdjF0ZwA6qJo3qDFh3qh96FbhqA9Y6rxdCU//84nRApkYO7g7Y/6aEsntZcY3zd+syOFQR1yjFoMX7PWwvqZkawbiuceUZ3goCZ7wOhCsqWoTibOhsWjGWuuYnVJKkiuZml//vk9+6N606EJjyoaVsZ8AwRbDmKDgEn4oD1rJNK7KY9sf0yux0wGFrxqpuAFzmrjFLrUsOJBtOPBm+1h9/snfjhIhBi/ebgDEJDTEIOG2twSqL60BV68DhxVBlzG5gPM5wKdVhwJIkqaL8b9AXji1VrgLlZUMawYIKT9nOgL2QVG+aYn7qXhlUnKpUsHh+rtmWuZmhQTErnFPJ4+K5aCU+yobFR5MtR29InnfskuSsxdeHr+2HL0827/++ZNvSr/bvNRk4pzhtDvmGGLTnHxcu7aj3qyuEcTpKxg2MCel1q7XSuPgJlSSpIn6Dnh3kxcDRpMpA0JlLnyN2BozT58p2BuxN9av+v3WOvU6beabwlTlfqi+cExWpI2kQLTtQD40uSgYsnnLUfQlQ2+f/cbJu4YH+Lc9ZnxxIth3/t8kZiz8UqlqThKAZG2LQpCM2xBince65lZetnvFvgnb30qQzYEmSVMOKdVg1Aw6oSsTfzMfOgJVbrvdDXlVLS8drBUMC07DmEJtme+vGqKyF6YBHlyo1k6jS8W/Ufbcc/40QoEbZeOJrya6lG/s/NdP2NLYYtGJDDJ5/nA0xVquCxR5Y2deuWm2VVoMBS5KkGvLrsPjtep1KULYzIOGK1tV18Po8R1W1g1k66C1au8UAmIoVa2ay0wHD/SsMjqlglQ1kjL8H3Zf1VtuWRoeriJC1+fi9/Z/q67J5Bp8TpgjGhhhn7eytTaoTlMtYzTVP+T2w6nxWpXHzUypJUg35alXVRhdFnQHnF5cKQ0sZVKLqrgNjwF51cM5j8oGJ6YB0fYvTG7MD414gK/8i4flL3p/nppV4EcISUwCr2HL8N/vf1ccUyq5xnWmIse/wsTR4dNMQg+ca53qvLF47fx0rZHRp1RiwJEmqgd/qZwPGQsnW5cM6AzJgrjvlq24lCrx+1emNvF4MQNnpgKyRGTS9sWroyO9ZNcjx9PgHDbw3Hf/9/nflUcWi8jXJsntD8bnhc5RtiNFW0Cr7HnSBqiQdK7OsYGka+CmVJKmm/N5XrMMiQBUhjFHdGdYZsLeOq/6AlqpPnceH1604cCXUxKYc+emAgxAKyh5fqEqVPBUG4YOmH9ZtWrExmaxmF2VkG2LgeadtCp+5Juu0uKzZMDdOM+nniy0IslYz8EllGbAkSappdmb5YK+oisTAP3YGZH3VsAYWTapQIJTUmWKYrUaVxXozHlM0HXAQAkCZduoI51Kye92gl+bar9+wo/9TNbt2fnvr0+3GJQatrz9zNHzmWKdVtyEG71eZ97YLRftvreZ6MKms+v8VlyTpFDebq2AdTYNTbHTB4H7Hll6wOrZYvjPgsCrYKKwDq1PBohpV9nFx7VgMZFW6HXJuVYJc2e7gRWGMcBSu/bpz+7eUdzzZnjy1fzZ8Pwkb/eYNKNYV4v1hnVZsiEHQ4j0sez5Vg3ebeG2anWSt5vFIZRmwJEmqKb8Oi+lMVAno6MbgHkydO3R0MXxfRpMqVp2pfuC4Rz0uVuIYpMfpgFWnNDJWrtKqvU7zDY6TAEjl5Zv7jiaHTry6/zflza9/zYrpdpMUtDg3jq+K2BCDoMVnlOmDZc8nX0Ual94arP4PKT46ThHUNDBgSZLUQDaYbJ7tVbSoYhFC9h8eviapCANhOsLVEYJSjSmCDGKHhZlYDcpPB+RxZaf8oWoFi1bnVQJZPM5nDy2Ea8/xza+/NFlKzunfYzSqVwfX/2T/p5XrmqoErS6zQN028LEhxjeeLXc+Va5/29gDi89MVLfDpjRuflIlSWpgUxqm4rQ5uukxgGXdS911K7126/X+9xzH3HUG9gzY86+bnQ5IYMxPB6xaMRvWjKII17BMgOM54wxBAiDvQdYzMx8vHbKObd6dLK1bed+qQYvGEJNcbcmfDxUtKpT5dVq0v89P0xuXFXtgOT1QU6L8fxUlSdIKm9IQwrQ59iKKLcoJWnXFhhN1x+aLoVNf9f+987rr++GnaDpgUWBk4F2lIsX9q4QOqmrDnp+niuvcuO+gTZq3bHlRkpx2Z7Kw7nv6t6xEANs38+FkceNVaXjqrVMqUjVoTbp4PlS0CKZ0hMw2xKiQh1vF9cw3L4yfT2nSrTuR32BAkiRVwuA0BhDCCQN+Kil1nbFjNjlweDHsrVUVg30Opcq6L7BujDBzIn3wlrmZdNB9bGQDC5pxbEtfj2BZ1tm7NiXfLHltOCYUnQsBiAB4eH4xBAQC4eGjS8uuWXwv2MCZ68l7NHvij5MtS7+RnFi3vX+vJASvI+uv7P/UG9zz3Ez5HHUduO+29Dg3p9fsSHosB9NjZWTFeziqbX1d7KHGNFSevwuEK84fZJp9h47V+iw2QbVq17bZNMjO929Jkp1bN578TEiTzIAlSVJDBIxs9YRpdVR+6g6u64YkUD3bNFt98M1rbt/SDyz9MDIKAYZ9lrKD4FGoDnFtyow+OBcG+/vTAX7Ea27fMpPMzfQ2ao7HyfHT1ZFARCWGnwmKrMfKTxksK/taVYMWx87nYhoDVsS1P23rbLJuffpZTENsDI/jUPQ5Pi39rMV1jtIkc4qgJOmUt//g4f539bAOK4uKSd1OgKDdemz3XhVruAgGZXFfqj+EEdZUVam6cL8qUwRRpXEF7eOz96VqRaCLbe+zx0kVixDEFLfnn866sfWhi2DdcAWen+tBkCNsDNtLiuCRnTrIdaHa0tXUwXF09uPa8SoERdZijXM6JJ/L/MfQNViaFgYsSdIp66+//q1kz8fuSt587Xv7t9STD1MMTPnte111uwGCtVRzuf25BmGwnO0OWDUsYVj3wSKElrKdB5lkw11jCCTcMNgfVNmbS98H1ngxpY3vmebWRhiIQWvvwYXwnGWCVuh+l772tK/RAp8PqojZdWdFDTHaxGcx20EQrsHStOjuX4YkSRPs1k/8dvLuPbcn27duTu7/9Af7t9ZDwMqO/UJ3vZoBCXEaVt1B+fyxpaG/7Y/dAQk6VGfi1LfecVd70aLug8MQyMpW92iKMbN+fRjMM8gfVF0jgGX3vjqSng+BcTENqm0GHF47v2nvsJDBtLppb4bBXm9RtkpHFZHpg6OuQV35PbB4j90DS9PCNViSpFPO1TfuSZ78+reST3x4d/LC55/Zv7WZonVYDPbr/l+WqXAEn0Gd8YbZsbUXSPKPZZDKmiICUdH6oEGPG6bqY1g/xOCZgfowvarVbJgqmW0ikkdoYXrjMwfmQ/UujzF5UROKNhAsYjOIuPYLHPtZu+aSp/Y+t0aszeNg6mH6EiOvYRtGNSXJXgMqi3U+r0VYq5f9jBLKuU2aBu3/ykGSpAl31RUXh+mB0aOPfzW55/MPJ0/82V/2b6kuv2aKaX5lp+oVYR1W3TUnVInyVYXsdECaUhQFllBdqviaVR9TpoIVj5Ugspjev+hYY9UKVKuKwhUIMdm1UVSS2upEx7XMV7Ri2/in9y0PsEXHUbeiRbgquCSt4xqPkr0GXFfWv7VRqWOKYHYz5br/FqTVYAVLktQ5puNd9qpXJue95EX9W8aHILV925ZkR/qVRRWL22hwQTWL/xny50c+cENy2SWv6N2pAqbXZbvpMdhkkJjtgFcFLdCpNj29v3wL9Cj72NjO/MjCUqgwFIWVqE7b9aqPYaBM1avovBjQ59uq0+6ca5gNULFqVadTIwN/rgfd6Ni7rK2KC8dO1THiuWNFq0iTihbnz/RJpkJ2iXNiemaVzyDv7+b0vDZt3FC7Use1IYBmK2d8xgiv0jSwgiVJ6hzT8O68+/7+T+N12x33JLd87K7+T8+5efe1oWJFNYs1WF9Iv6563SWF9y0jvw5rYcQ6qFFCo4v0OeuIj2XAT9AjiOxPB/yjwgi/cy1TtcjiMVWqFQSlDetXnlesWtFWPbvW6ujC8eS07XPh77me2apV1XAFBvtcC64J16aNNUSxuyEBlpBNuIoVrUHPzXG0VdHqCp+FquGI9zffEINAXeXfAmut8r//b7KmURo3P62SpM5deMH5yWNffqL/0/gQoB54+Eth+h/TALMIfXff/v7kqte/qn9LkrzjzZeHild2+mAV7MMUMdAk5NQdMDO+rDNlj9ejMsIglWmGg6YDFuGYy3b4i+J5VpHNVwziY2gqaqveCy1Hw75IZ6X3ixsLN8U1qdKwogiXiqoKj6eCF5uFFE0dnMaglZ+mV0X2vNi8+oydc6WvMZ8nfkmQlW22IU26av8lkSQp54GHvpi89q3vCh35Hk1DVNGeUoSZc9Kvez73UP+W8XjiT/8i+Swh6nWXJO+55eP9W5+TnzbIsTOdkK86VqzDathNkEEm+zmVRSXl7HSATkgiXOXbXJdB5aBqqDuevkyVQMBxzcysO7leiWoSg/GisTzHwjkxlY9mFwy+26g6RUVhqEwVj/twXFyvQdW0ouce9HnIBhIMC1rsSTUuNYqEy8Tz+vozR0NYLhNmubb5152EwCmVteF9qf73kiRVNjc3G6bh4bd+5/fDVMCHH/1v4WdC1dxsf91EOtJ68JHHk9df+r29n8fgvO96cQhRrP269/MPh5bs3JZHxerBNCjecuunkne+7QeSiy44v/831TDYzq6LoVsev3lfqBF0wFQ6AgVhaRgGpKeFjnsbkqcP9LoZ8trsG1Q1ZFEpogV3lel37PnF65R9SFwXRgB55uBCGITnMaAmgPFFADua3pf7sZaMY+PxrMPiOYoeXxXPyXvHn2dsT4NQGgAHXXeCz86tsyePa5Tsc+/a2ts/ims86Lj5vFCpY30br5O+jcsqOnRi5LloANIl1qmxOLHu5zeP443XgfdvR/rVu33583N+fJ6y58d1kKaFAUuS1AgBhul/P/wPXp289+evDtUqpuYxLY/gxd8dOHg4edlLXxI29aWalK8cdS00szhwKPmNz34hTAPMoqp2zc/eEqo+//q9P5m86nv/bv9vqpvZsD78lj477N2yicX+NZsRpCNwwsigxxNC4mCfATkb7MZBO+GKATKBpAoCYdVgRgjkdUcN+AmCO9OAsXl2JtmbHuuho8XHRgA5Mw05HENRAIuBhdtPT4NlPoA0wXPzHhJuaROffW6O//T0uNhAmCmB6V0r4bmZRsj0TQIxIa5O0CIEEyx5vi5RkaWZRttBLr5/vXPpXef01E5eZwIWrxlfl+tOkwtpWthFUJLUGCHlnvseSe748O7+Lb3pdg/21z8RuAhZuPmmdy5b9zQuHM+br31v8iNvem3yo2+5IlSt2toDK4uqBoPfiLbVTI+q65wzNidPPn2k/9NzRnUHZGodA9dsZ8MyGLwTcKp0PyTk8fIcxyAcL00lqK7FQ83fvxcYex3+uI5lAgSP6Wqfq+xzH+03LSEYxLVWTcX3MNs1cZDssRBGnk2DZ1uVpUHoIEgVr/YvCErKX+fNG5e//3wmsx0apUlnBUuS1Nj27VtD971sdYqpgUzN47YfesNrkksu+u4wMGSK3ne86AXhPuPE8TBF8OOf+k+9jobpKLzuVMBhGNxnp5ZRBaBZRZmwUISws5gOpOPDe1WU2VAtY5BNYCkKFNyf7m0Hj1RrCMF7NKxqVoSK16CpjLFqRQOQcLzpfbiN60KHwIjXPH3b4KrVMNlKz66ts+Fat1V1oarCudF2nConTT2qVPeG4bkImVS08tWyIvE859LAQUWH92rY/ZsaV6UMJ9/D9HO9Kf0scM15Xb54XzkWaVpYwZIktYJ9pWh5vhrVqTKoWMUpi+x11dWeXPPHlpbtG0TIIWANq+4Mw+MJWIQXKkBUd2iaUKaKUrSHVBlVq25Udor2tiI0Md0rX/WJoYvAwnVhmtjcTPmq1TA8N2EFXKdsNbEqnosmHAz8adRApSVW2Mq+B2VlqzijKnEEbI6JhhldVO6iup+fJrgOzzttU3hdzg2cF58RaVr4aZUktYJwxTTBScU0xQtfdm7Y86rLDY9pNEElIjqaDsLz3QWrICAw0GSgz+9EaWVedmDPwLhKF8KIQMhAtyzW6VCFiQgmsVMce1rlj5cQxRqmpePHQ1ggKHBebVRKeI46XQHzmPaY7XAIBvpxDy3ek1Hd8KrguUt3EUxv4z0qe/+6eE9beEsq4TU5Nz4z8X1krZo0TQxYkqRWsNdVXGcVEWrq7inVtssuecXYqmszM8/975UpXHUH4QQDBs0MMONAv0qVgoFqndcmpFRpL88xsWcSOF5CE1WV7IbBWb0q08ZQtaL1OoPpGBDaQjBlgM5xEJTKho8YDjmfQaGvKMSNK2jx/cz6XvMJVAlmVVFhrLsPVl1MDcxOe+R9PF7wHkiTzCmCkqTO0DWQ0HXz7mv7t5waqHJk1z6dtXMuDRsLpadaMcjPTgdk+h1BpOr/sVm7sn3LzIqpe6MwQGdMW2VaI9PJGByzJmxYw4bY7IJQlX1+AkGcfvfsoYVGU/vyeO7s9DsCSZFBUxpHIVxx7OhNqevm2LmmfO1Lr8+gz0L+XJtMHWzaoKUOrj+fo2yTFY4jWyGVJl07v26RJKkALdFZ83SqyU8JnF/sNUoog0F+fjogTRXqbFjMQL/s62b1phaWH9ASyJgaeSgNLqOqVgz8mR6YD2+EAIIpf9dkal8RnjtWeajKPG/XpmUVJ8bu7LdF8Cua0jhKrJYRhqnecZ5tHjvHw7PxmSA0E6AG5Y3suaJJRYsNpMeNzyuV14jLaLjStKn+X11JkkqiDfr2bVuSBx76Yv+WUwNhI4sB+KguaAzIqXRxv/x0QB5fJyjx+KrrqcCULBpXjMIxE1YILVRKBhSteh0C0+DBnk8EkUHVLRAKuQ8BrMrUvjK4HnENVQxxXO+z0xBCeKGl/bBjG4X36Rt7j4bz5LnbOHZCH9eB4MlX2eDUNGi1FRCr4mWz70GdNYTSavNTK0nq1Dve9NqJWYc1TtkKybAKFANZKh4MogkVveYPywf5VJTqNsrguapWvwg5w6oG/BUVH46ZsEJo6YXA5Y+J5zaoajUMUw2p4IFwQEhrC9eEEEeo4vhYz1S1ajUM59m0ghSvcQzccdph1eDUJGjRhGTc+Kxm2+CXCfrSpHENliRprNjwN+6VtZbl12FR6WGgnA1PhAYqKbTcHrZWhqBCBajqpsFgMM1LVgk3YN1L0bovBvw704F/bF0ecYwELjY+Zqoca6nqrGcqwnPHtu48N2GuiXg9aX0fj5VKEaGu7XbnBJky67+y4rXMX+Mi+ecfdfxl7x+mIqafHYLxOJ2d/jshDMZj4hgImtI0sYIlSepUtnr16ONfTb7/B68L3QXXupXrsJZOTvNjAE3gKpoOWIRQRkWJwXFVhIg61S+qCDPpcUYcM9UewlU85iyOkYoTmw6zj1Hd9UxFeG4G+oQhXp/jqHMtQKjl8QROQjDXnWPknBArPG3h+blWhIa4/mtYNY7PBMe3Lz22MmEsPj8VOdbNMd1x2PNnjweDKlq8j+PuIMgxrE8/qtmX5XMnTRsDliSpEw88/KXk8re+6+QXQeuiC85PrnrdJWHD37Uuv2aKqksc3FOdICwUTQccJDSsqLEeheevM0jN7qHFcXPMrOdijdGgY6YSxEPoIshd2PC3zQEy15AqHmucqk69435ceyo3RcGvKAi11XodPH9c/8UxFLV253wIkBwf1bQqeE94HM/P844KcqOCFn+W/Gi2Ju6BlUXQk6ZNe//lkCQp4917bg8NLj7ySz8d/rzmxj3h9uuuviqEr7W+LovBYnYATdCgOhFDStXKTt1KVAhYNdaxcJybZtefDCVFVasoVrc4Xwb5VIdiowqm4lUJQmXENU4EISo2o4IQwZT7cU6jmmzEIET4jY0wRj1/Fbw2x0DAzjba4E/Op+mGy20FLaqXJxocRx2hg2DuNV2DpWlkwJIkdYL9r266/m3JZa96ZfKJD+8Ot93zuYdCZ8Fz0q8n/vQvwm1rGetYCB8Mcgk5DPBZ81IHU/bqDvR7TTaqDVQpHDDwH9X5j6mAhCiqSwzss/ejCsNAv2wQqqIoCBVVywgLHN+wgFgkdjOMQYgA2XY1jufnGnF8NAg5emwpnFcbYtBiT7FBFbOsfNDaml43KphtBuNReK24gXJkBUvTyIAlSerEhS8/7+RaK5paXHnFxcltv35vaNn+5CnSVZAF+nE6IINdBu35Fu5lhSmCuWmHZTHdr+xjCREM+GMgHNQcg/sxaCcYEHIGVeTKBqG6YhDiOLnWsVrGaxBsm1aFYhDiT469zWocz0XDCZqJcH1O29ruHlqIx5+tmJUJWgQ/jqPqVMwmqJrxmYt4fffA0jSyi6AkqRNMAbz6xj3JzbuvDQGLdVdMDQTh645+VWsto0nA15/pVQRAtYfgsv/Qsf4t1bBPFgPxqmGBShSD6lGvy/ExnYywQmCik2D2+KP8/argsXyV7ahXBWNxAgvVFzqMH0xDRdXjGyY+PxUhzn1Q+ByF5yHszKSfhX3pe5J9P7PXp+2OhuBzwGuD0EUAK0LQO3x0KQTYKl0Km+A1jy4cP7n+jF8K8JmXpo0BS5LUmT0fuyu58+77w/dMDSRYUcmi2cWpgqlpcRDLNL0dWzcmT++v1/o6PwAta9TrUimg+kOnQxpUxAH/GTt6U/9iEOJ+VLcYdGfvV1UMGDTFYArboEF+VRzf9i1piF2/Pg0BbLDcTlv3PI6ftvFzM9WPP17rYS3Ys0FutYIWwWbvwYVQ/cQ4jin/moR4GqVI08aAJUnqDGuuHvvK15JLL74grMXKYj8sqlq7f+rt/VvWJqbHZffDGlQVKoPKRt0K2KDXZfrXlnTQzCA7X+0hDMQBLuu4CERF96uLQT5d8whsVHKajEh4LqbYZYNLm89fpGw1KCIw8B7GKXijrEbQYooeIZrjKwqAXR6Te2BprTBgSZJWxQ3v+UgIWWt9qiAb7z574LnKEVUhqj8LaWCpiqYZVGjqVMDy0wtjJYXjY6rboGoU9ztrV2+aFlPGCIxti9Pi6k67iyGRamHRecTn7zKkxCA3qLI36hiHIdTEil+bATcrngMBnnDFmsFhugha+V8CnJaGezarlqaNTS4kSZ169MtPhK8s1mLxRcv2ScUaMlrNv+na9ya3fuK3QxisI99anSpHnXbrIJTVbXTBoJ6w1Bus95pvML2NwDRowB/vR8WMRgwgqNXZj2sYQhWNGLguo5owZHE+ZRpZ8PxV2rpXxXsa9+fKN8IIATW9Zrz2sD3EhiG48D4Rzgg0PF/b59DbyLq3JowplmWbYeTbu8fzrorrlG1wAdaoSdPICpYkqVNME3z3LR8Prdkvu+QVyYUvOzf8fNHLz0s+8oEb+veaLIQrgtV1P3ZlWDt2y62fCnt5ffb29/fvUU1v8N2rWDWpQoEKGIEnrlMpiwoOAYZwNGz9DxjsFq3JAoNupuJR+aKa0kU1qMzzcz51Gm1w/qxHA+t96gSeYQgYsbJD2/XNGzeE6k6dytwgXKMqUxNHKaquVX2N7HnXqWjx74IpgVRZo7N3zaUhq90gKY3Dhvel+t9LktS6877rxclVr7sk/Mr7v371fyYf/9R/ShYWjiWXXPTdyZmn7wxfk+bezz+c8Lvz3T/9j5LvePE5yaVpMPyt3/n9ZP+BQ7UadDBojVMC+Z4GCdl1WVVQweLYqgQsAhOBhEHzt9Kwd3TIYJnB9s404DCoJoTlB8kcPwGNdvO70vsxLa7NkBKfnwE3x8HvgbPnyrlw/WZpMJEGpKpTLenseCQNZJzX6dtmw/PVma45DM/H827ZtCH93CfJofR82r5GnAN/EoIIR3xf5zV4v+ky+XSuO2V8Da4T73PYJHvEa3De2fcuvQTh81EGn00qaGyoHfEc0jTy1wKSpM5RBbr+mjeenBJI4GKPLKpEr33ru062b58UBCmqWBHHTzWLfbyyt5eVn9YXNg3O3VYWlYSZCo+lykM1ajENKUzBGjRAJhDE6XZUMoZVhRh0M2WNKYas26ERQd2pYUV4fsId0wapiDBdjeNjEM65cB783bDB/iisM2JaIQGO6W0E0DZwHej2yPS2p/bOh2tECKoy9bEsPgtxj6uqe2hxnDSz4P2mwjroWnKdmNpIVarMa8T3rurUwaI9sKRpZQVLkjQWrGH6iX/+y2Fq4Aff+5MhZMXK1ree2bdqrdvj+jD26sqi0saUxlhhoxJHZYtNkrm9CgaL2YpVqEKlI844bbAKhp2EJqoLw/CaVHri1C8GykyNK5qqFqtWhAGCFYPkMhiUc/9YseBnglxbOI5YRWFqJCGIQHFkob2KE1UXrk2Ycph+cQ51gxvXnEBB8IldC3muWG0ioLAxM2u1yl7jMnhu3lfWTp1GaEpvG1Y5isc5f6y4U2ARqoi8Bmu1aD5R5jyqVLSo9vHZiZ8fKqQ2uNC0soIlSRqLOz9zXwhZH9h9bf+W5ypbfEWPPv7V/nfj8Rt3359cc+Oe/k89hD3CH00usqhi1am2MSjNVrGOpgPuuo0uGOiOanRBAAv7VaUD4GxjBQId1ZRYTWCgnW0SUXctT6w2EVJitaktIShu6W16S0g9fXv7lSCuD2t/qATxWlUqQRHnzjUnpBaFFq4t70VRI4y2EICea0ZSXDnivKgCskaqbLjKIlCHz1T6OaS7ZFsVLZ5jMfMLh4qXX5ooBixJ0lg8+Y2nk5vTcJWvFIHpglSSmH53zc/eMraQRXdAXpvgRzOOLKYz8nefTINhRBXrQM1ugtnOe/wWv0lIGDTFkEEqg3yem8CQr1bFBgJ00mNaHwPt2EmwaUWFkELIohpEgGhjyl0MLQQfjpEvziFOuasagkYhBA3qBjgM96PBA8c2KqTynmTDRhvXKWtYoGEdFdez6LNRFa9BmItBa9S1GhW0qL4t9n8RgFG/RJAmmVMEJUljceHLz0vOf8mL+j/1OvUx5e6fvf9Xk9vv+r3kYBpcfvgNrwldBsc5XZBGFrMbZ8KUQJpZxAAY/kxHhR/+tbuT89LjnpvdGBpd8GeY2lgRQ0fCR8SeRgSlzJiytKIphgzUCU1MR2MgOygwMQVrazqw5Tm4L9362sQxcZ7b+s0XCBxVwxvBiemNhFL2Y8o2oYhNKqgKxmln2b9vA+dQppEHxxnWhKUvT2ipcp5xaiLT4HZuab9ZCOIUPc6DqYOhmcX+hWVBpileg7BWpbFFPK7sY+Zm1y+bRstnx5ClaWWbdknS2BCqHnv8q8k99z2SPPblJ0Lrc9YzXXnFxau2Biu6/K3vCiGQKlsWFSyaW1C5esebLw+VraIq3CgEm2/u7f32HqyHYkpUlRbjEQNlpgEyqI+D/KKW6llUCqj8EOxYk0VQiT9Txao7PXAYjrMX+spPR6P6xlolBuCjHpM9p67OIdvWvdcev/caHGeYupi+f02rQTwX54EyLdGr4j1gSiofDZpJdHWteD+qtmqP7yEt2g8cPnbyMWG/NQOWppQBS5I0Nns+dldy5933nwxVl73qlf2/WX2xq+H9n/5gWBvWhex+WISPTbO9Ck1VcSogFRB+08+gfFhQGxZa4t9RyWIKXtviAJoB/r70+YcN7JkyFptyVKnmxLBD+InNJdrG+8VrcJ0YOtU5zlHie0FYbuM8uPasWeMzF9/brsMcqgYtKlnb02u7wL5h/cdQZaVKKU0jA5YkaWxY64RsBYiq1m133BMqRJdefEFy1etf1f+b8aOpBZW1T3x4dwiCu3/q7f2/aQdhipCDWHmiYUBVPPZ5p23qBaYKVatR9yMEcYyjpnjVkQ1yDOyzo494LZqGPKZJ8kVFqWlVqcjGDeuSM3bOhe8PpUG1bFWuKoJm3Q17o3hNB1UCJyloMU2SahUVwvBZTMMWj5OmlbVXSdLYEKz4oolF3E+KcHXP5x8O3++59VMrmk2ME1W10Gjjxj3Jed/5bf1b28M6kyiGHQbCVTD4ZuAc1gkd7bX/LsIAmmYW/B4120mwCINegg0VJipjvEbbGMDTqRAcF8cHAhHnwyC/aQWNUEWjDYIiTSria7SB94lqEMGK/a0IBG2/RkQgatIIg2mNvI/702s6KATyftTdQ6ssPlf5c8k2toj4BUDcA4vHsMZOmmZWsCRJY0W4olNgnIrHRsPsjcXaJ8LVnZ/9QvLZ29/fv/f4xGBFyMq2jW9Tfh0Wg9qjC71mB6MwkM9WgPgNP5kpX6lhkLx9y0wyNzO8ajVItprFGq+qjy+Dc2G6HevAGIUwHa7t18lfryajHQIO1zu/dimeB8fexTmA95OGH/w5aool4rHy3lWpRPI4PjeE9qbXa5CiihZNLrD3YK/DJVhfuGtb73ZpGlnBkiStirjOiT9j6/MLLzj/ZNv01cDUwK7CFWY2rFtWJWCwPKoCwv0JYoQFAhNVHga/8+ljGaxmn4+BKdUgqgGjqlaD8NzZalbV6kkZrK3hi9ea2bC+k2YGsWLG75GpnHBt6qBBBI/l2ufDDT+zro73okpb9yp4DwlLvB8E32FVM16fzwTHWnWaJ0GdtuvxenVxLrzfsaJFF8wXnL45TLvclwbXLP6dSNPMgCVJGiv2kkKcIkjAygeqJ/t/N04cRwx9XaJldsQ0v7kh4WJYYKLVNRUABty93/hvDANwBteDpoVVQXjgueJ0u2yQa4KBO1Ufnpvg0NUGxYgDel6DqkmV1+B+bMJM4CBEDQurhJMYGrLTH9vE+8F58FpxSl82ABEECaqEyrqVtGwAQldBC3yuaMtOEGQ9YXwdugnS4l+aZu6DJUkaK/aRIkA9+PCXkm9/0QvC3lJnnb4zef2l3xv+/mXnf8eqt2zv0vF08Hu0XwlhHEwoio0vIgb3TAuLneri/fMIaOSFOM3qqfS+NcfWA/W65iXJaf0pW7ELYlWcE+GDAfUzB5/bM4o/s/taoe5rDBJfgz9PT8+DazaswkPHwF3p9SfAHjpafj0QlSyCUK/qNZMsLp4I0yDbxDRTPi+ss4p7SPFZWUzPh2mKbYl7VdGAgul6fG6P9ddJNcHngODWm7q5GKbI8t5sSl+HNW7ZX0BI08o1WJKksYvrnWIV6+ab3rmq3QPHKb8Oi2l4/CafAS2oRsXQNawSxUA1u9aKKhDNAqquvSmL6gIhiyoN62WqVEmoThA4mOY2bL0Z5xTX3lR9jbI4D67voL2z4rFyTZu8frate1drmphed9auTeF7wlV+PV5b4vvSdA8tnmdQZ0MC7ZYOpqNKq8GAJUlaFUwLpJLFZsPjmJo3SVjrEgfvBKMN6UCZ7nQEpg3raZU+PFwMCmGxsUOv8tLNYJvj5YvnH/UaDKiprlDFGdZOPo9wQtAhjA0LmU1kNxCODRbisbaxBxXClDeCbxrYylyvKmKDDa4PFb8YTAlzdQPQKLwmnztUfZ0YrvKfzfTmZGd67AReaa0wYEmSNGZUmWIlJ+6txDorBp7DNgxmkDqqQ2CTSlNZsaKBQa8RQ2DdsDeq0tSWGBjTlxtZNawrBk3+LNMJcBSONzazyF77bABiT6kuKpmoGrRiuKJtfLYFe3pzWBfXRZMTaTUZsCRJGrPDaeDYmw6A48CTCla2qlWk7NTBKAYHOgKWaQNfR3yNfHWGNUgEo6bT7BCrcl1NtYthZX5xKQTXLsNcrDpxTeq2dS8zhTF+Vrqcnog4DXIxPY5BQZvPONNg+cxmP4eGK61lBixJksaMKV0MNhkoMwCmkQBT6OI6rCwGqGWnDubFwS3NF7oaaPMaJ6enpWGO6lnblaAuqlnxObP7fcUAROWnrWmCRWIwjXtBlXmdWJnEs+nnYNRjuH+cnljldergXIr20GIa5mnp5+/Z3LpAPjOEqy7asbPNw3kveVFY38n0YzY2l8bNgCVJ0iogYMUqBlUJ5EMJlQgGr0wbrDPNLooVpa4aYOCMHbOhAxznxet0gQE77cmbBiAG+IOaLSAGoHxlrk3Z0Fim+cew4x0mvs6WTRvCtMFhU1CbyAc6Og7yud57cPlUxS7DFW79xG+HzcrZW4997djEXBo3A5YkSasguw4rDjrjgJ6f61atBolT7dpugMGxUsFaOn48VDC2p2GOoUWZKktdMQAdPFI9MBBa2Wdp1GM5L9ZNsZaNqkxX0wazzTaKXofjKGoOUVV8n9Dl+RC0eu3W14fryybC8XPAMXQZrqI9H7srVLLuSAOWtBoMWJIkrYK4DiuKA2D+t8z3TatWRRj8ttkAY1AjixiAulz/lQ0MZc+lTgv2rteARUVt3WM3xTYaY0ScD+8ZumiEwftOJeuZA/PJ1vTYOQemv/I5GEe4ojvp5W99V/KRD9xg9UqrxoAlSdIqYD+spzMD/ecCw4lkZv36VhpEDNI0ABHU4vS2QceZDYzjqGYR8AYF0ngsrH2rE5I43zj9rU7VrKzs67BxMNWtrj4HXTTCKAqwXPvTd8yGcxkHq1eaBAYsSZJWCXsusUaFQSgDXgICg3d+68+6qWGhoakw8K3RAIPHVVkPFCsaXXbn45jidL58VYaBPefZRuMNXqdq1awO3nvWTNG6v83qVV420DVthDGoOsg1G0flCjS2oHrl2iutNgOWJEkVMQ2pze5kx9MB6VP7Vg5Mu+4AiCoNMOIgumpYis0puj6XOM2OMEVYIDxwvG039+B1OB82h24SSvIIPEzhpLpJdTF2NeRj0WWg43VjRZL3p2qFjs8F14TrnD1GWrBzPl2Hq9g58N17bg8hy+qVVpsBS5Kkkhi83Xn3/Z1MQZo/thSqWflBdJt7Sg0yqgFGrNzQyIL1NHWPo25AqyKGBSpAJ9KX6Oq6ZUNJG+fDNR5UGYzTILtutz6q4UaRGK64ztnjIlzRWXI9F6qiBx76YvLgI4+HNuv8m/voB27o/81K/LLjhvd8JHz/2JefsHqliWDAkiSphHs+91By26/fm1x5xcXJ9de8sX9ru6hc0HWNSk9WnDLIoPdIh+t/ihpgtNUqPuq6mhWDCmuLCD9dN6fINo2oW2WK0xgHBVxkA92otu5NlT0nPpPr0+ud7RSIJuEqejQNS9fcuCe57seuLPXvjfvfdsc94fubd1+bvPD5Z4bvpdVgwJIkaYS4t85nb3//WAZuTA87mKtijGvKYKyWMNDnNbuonmXDQpvVrBgGqQARQHidOE2wy6oZ4nWjylRlrReP4RjLTmOsU2Wqi+vJa+U3EEZ2LVoWj4l/18QnP3Nf+IXG/Z/+YKXpuAQt7s+UQWm1jKeliyRJU4xQxcalEdOWQui6+/7+Lb2pSm2hMtCrAPRvSBFwCDqgQkP46QLBikEzTSPYy+ib+462Gq7AQJ0QSehhaiLn26DYETBVjdCW3V+M1yHscBt/R0Bt+jqDcN2eSq8VFcDn7doUqkCjcMyEK97XsmvEuB/dJ3m9tq7dIFQtv/Hs0fQ6nkjO2rkpHC+fO5pWsG6wq3DFvyXC1Tve9NrKax2ZHmi40mqzgiVJUgksoGeNx4XpAI4/z0lDF2uxLrvkFeHv7/n8w2HNCFOafvQtV4TbmmLKIC3OaS+etTkdyBIYqCq0PWUwu05q08YNrVeZ8ggHTapZVSp7scpEOOGrK7E5BWFo36HiYyIYMZWu7rRCcO1iF8Cuz4nXInTz2WC94NP7l4erbennhnNqQ6wYl6le8csOfvlhqNIksYIlSVIJ1119VfjznOedEQZ+NLngKwarP/mDO8LaD37zzgCxDXRfO2vnXBi8ZhGqqGIwuG6rgkFQ4bU2pK9JRYWgk60yEUy6QPioW80iyPQaQyyF5xj1K2MCCNeNNW1UYbqqAnLtQlfINCBT+cleu3idkd0HrQ7Olwodz0O1sWzlrA7WU83NbOhPXe1VseJrtRmuqF4RrnZf/7ZS1atbPnZX8qZr3xt+AdJmFVlqYsP7Uv3vJUnSAAz2qF79wGXf178lHeDPbkw+ftfvJZdc+HeSiy44P/mOF70gHXTOJB/+tbvDfdtarzW3cUMYmC8sHk/icJzBNQ0c+DsGt1RwRgWMQZjaRXWCoEKXwOzzEADobMcgeksaFAgPdV9nmPg6nM+uNGhR/RkWPqi07di8MYTBfFOQYcJ1S8+TwLAzfR3kK4Rt4f1iuuK29Dip/PDap2+b7TfeaK/aFM4pfU6uGZUzKlptvk989rIdDrl+vDe8Fp8Jzq0p1lw9/Oh/Sx557L8nT379W8nNv/Dj/b8ZjPVWH/r3n0k+8oEbkvn5heT9H/pkcuDAoeS873pxMpf+25RWixUsSZJKGjQNacf2rf3vkjA98KrXXZK8Z8/t/VvawUD2zJ2bllVdGECHhhhHF0NFgcpMFVSK6OgX1y4NmmLG68S1TbwOUxS7EM8nW83Ki8fM9LomzTc4V9ZMUfnhnGge0QWOjwoT146pjIvpz7xfXYiVs/g+EULLVgMHyYeriNci1M2m70Mbrnr9q8KfVIT55UQZdA3kvkzTpdMgTWjw2ONfDX9Kq8WAJUlSSY/2B25MReL7N1/73lClyja7ANMJWRvCfj5tClMGd82FilNWnDJIRaHsVC0GzmengY1pbN/YW66RRZxi1+bUxCIM3mmuAabTxfCTPWYCX91wFcXgyNotwk8bgaRI7BT4VHqdF44trZg22LYYHmm4wfXKf17KiuFqf3p98hW3NqcFggoxIYnpt0zDjXtbDRKnA1LteuDhL4Xv43Nc9qpXhp+l1eIUQUmSSiAwvfnH//fkheng75/90r9NHvvK15Jr3/YDyXXpgI6AxRQlpgmCgd7X/uwvkwOHjiSXXPTd4ba2MGimUkUQYGpbjBiEhTjFbtSUQYIE0+OoFFVtktF7nd7UxDJT+ZrgHKj4MK1u48y6EFL2pwN9Xr9NHH+V6YlVcK0JU1TbOJf8tMHFxRPJ8UFvVENcP8JqfC3Oqex5ZcNV/jPSdrjKYmof/45ef+n39m9Jkqtv3JP89d88dfLfF7gfleJzX/Ki5Jd+5deT/QcOLft7aTVZwZIkqQSmI9HMgiYWn/jw7jAdiWlNVLBoJ83tdBWM6DLYJQbNTANjIBwxTmeKHQGkaMog96URQraRRV2jpvK1hWOcT0NJPBeqV12I165Os40iPJaW5UxlzLe653sqgeyZdcbO7ipnICzyWlS1yp4XFUM+P1T3xhmuioxqXEFb9g/c9M7w788mF5oUtmmXJGkEqles6yBQXf7Wd4V1H3QMzIqtpQlbT37j6dDKnSDW9cbEVD/2HjwWqiJZsQLBOhmCA9PECGUMtPlqC4P109IgQWWtScvxIvlzIGQxuG/7HPI4J6plVH32pa+bv7ajcNxMOeRxo5pZ8FpN2tRXEc+LJhiDNkQmXJ2WHvuzabginGXtok17h1Mby6CxBf8WmQoYcds1N+4J0wu7/vcmleEUQUmSRmDKH53JcOklrwgtoZkqGG8D05POPG1H8sdf+Vpy5uk7k/f+3I+NZbBHsKHpBIPnbDc9fn3KtDcG06zNYvoblYwqHffKIgC13ZWPFuBnbJ8LDSF6rcF7+4JxTl13NART+Xj+7em1I/yEDo4lXisbCkeFq4j3hDBD0CLUdX1eBD+uH2E1Ox2SzxFTJPmcMJ0xq8twxS8n3n3Lx0t3ALzl1k+FX3r83b/9ncm3ntkXGsp8+4tekPzomy/v30NaXVawJEmqiAHhvfc9MpYKVRVsAEs1Kw6YqUZQSWEQPZN+v7fjCgnhgmlxvP6+9LXqjjCYMkfQGNYlcFzVLLCGiq9RrxWPiWpb1apXFF+LChPhsstRWtwQmUtM842ia56+pcnO9D0lZHaFsIR7PvdQqAIz/XbYvyumAjJlNzaXobsnrdqtXmlSGLAkSaohThW88GXnhgFidsrSaqLKQ7ihfTYD5jjtLIatON2uS4SMOlPeCGjsx4V9h54LioPEQIe2pyfmjXqtMqGwLKqRXAc29u162iDO2DEbKpys3csGY8JVaGHfUiv2MqgO8++JTbxHiWuuqDBLk8QmF5Ik1cDCevbsoZtg3MNnEtDKnUEx07myjSyoYtFsYX06as43x2hbvllEGRwPU+uYXli2BTv3YTob1SLOicpPV/KvRaCK+J7qVRvhCgQcKpHxGhKMCV1d4Nhn1q8PLeSPp8f+vNN6bd1XI1xVRbAyXGkSWcGSJKkiFtUzRemqKy6eqHCVR7Vq38GFMAUsK05D63rKYK8SMxvC07AKE8dC84U6DSWicVazOC8ae/CavA4v1WRK5CiEINbStT0dMgbDbKCl0rlr+8ZwbqyrG6dPfua+sL7q5pveOdH/rqRRDFiSJFUU14xMw5oPpgw+mwaOfOOJcU4ZjIGuKCDE6YRtVX+GvVabCCBs+ozDR2locazT9VLZAMlrNQ3G2apb9rh5HSpXVEK7xhQ/OgI++MjjoesmfuRNr01+9C1XhO+laWXAkiRpjaOVO534Yje+KFZiumixnhcDAsMOAh/VkWwL9jZlw0gX58Xzc+w0oaCr4bjarIPGFEwb7HUprBfqCLUEKN6H1QhX/ILihvd8JOwbR4MK1jJeevEFbhSsNcOAJUnSBOO3/G2tMzmcBgLCTD5vxCl64wgIsWJF6KOpQpdVpi6qWbQy51qxRiq7T1QbwacsgjHHsHXzTHLgcLVzywbPrKbhiul97P/GNgZs/jsMwYqARbj6wO5rXUelNcd9sCRJmkD8lv+Wj92VLMwvLNtvqwkaFmyanQnrnLIBgOmDBKvT08F3Os4OeyV1he6GHAdVMypLXezLFXFenCsbLNPhr+76rohpdds2bUyePrCwYp8ozoVqFufHRr1MzeSrK7xHR9KAGs9tcZG1YINfj1DGlFCOkw6NWW1UrtiPioD1uQf/KHnw4S8lF1/03QP3s2KfuHe8+fLkqaf3ntz/yuqV1hIrWJIkTZi4H9CVV1zcyXoUBuL700E2FaQsBuFdTRmM0/aWjh8PVReOgQYYG9NBfdmugU3EahYVvDpBi8rb3Mb1pY6V9W07+u3mu556Cbr+8XqD1oLxvjKlkfPOb37cxbTAq2/cE6pTu3/q7f1bBqNCe+dn7gvrsNj/SloLDFiSJE2QPR+7K1QAxrGJ8cF0ML4/DTt5bU8ZZBDPAJ8KT36A38U0vkE4jljFya8/GiQ+hkpb1bVi4zw3QlRcC5btxhiPvyhcUUkkULe95orP8JNf/1bY/Fc6FbkPliRJE+RAf/PUGK4effyrya2f+O1Q1Wob08vO2rlyTyzCQNyDiWlxTRAwCFc8X36AD16L/aXoaEcQICh0hWD11L75MHWQ/Z54zWFiMCSc1GnEkT03qkT569wmwiLHyHXmmvN6TFccVLkiXLHBcNvhivVV7A/3PS87t3+LdOqxgiVJ0gRh7dU1N+4JzQIIW7SvPicNWwxcr3rdJaWmXVXFdL1nDyysWA9F2Dl9e68V+TMHlrfzHiVWVMpOq0NsgDGOZhthv6dtG8M5F02ri23s6RTYRvUpVrOOFFTxusC13JaGY8JkvhV7DFdt7XPFZza2W3/g4S+F9VVdfE6laWHAkiRpFTE4zU8FJEy96dr3Jtf92JXJ9de8cdltn/jQTZ01BKACkm/lDoJBlSmDsfJTNCVwlGw3vjpVo6qKQl08X4JhtlNgU+SZuEEx0/i6CpHx+hMON86sS+Zmnjs/1mvFToJN8Hlks20+v3wf263zSwC+H+an3/OR5MKXnet+V1qzDFiSJK0SplIxSC1ab8XUwHyQonnAZZe8IlQIujJ/bCm0IM9XnGLwGVXRYQDP1EPWd+WbaJRVp/rVRDbUMSyiK19bGx8X6bKlewxX+9Pnpcsg4utxPnzfBtqy33Lrp5b9EqCMR7/8RKjQxhB200+9fWRbd2nauAZLkqRVQjOL2I49Lx+u6LZGpeDcEdWBpuY29tYLEW6yqH58c9/Rk+uJimaXsV6LYMS6o7rhCgSOUE1LgxyvRUWpS9lz275lY6gudRnq4uvh7J2bWgs9TGvkelGtiuEKvN4hWsi39Dqg+sQvBh77ytdC8OdzPAqf4ffsuT38goCOgYQrfsHw7vQ2aS1xHyxJklYBv8mf3TiT/O8/f3XyoX//mWR+fmHg1L8HHvpi8jO/+NHk9Zd+b/LDb3hN/9burF+/LlRxiBj5PbEYuM+kf79r62yYPkcQiVUT7k/Fqa1swj5SNGigIsY0vqPH6oe2YTh+gknoFHjkWDg3butyPzDwelxDqktNX49wxf5brKVj3VUWa7GYCtk2qq5MCSQRs58Vf77spS/p/+1Kt//m74Z1Wj/7T94SHhsfz5/sjSWtFU4RlCRpldEhkAHq/Z/+4Iqpgpe/9V3hT6ZiXfX6V4Xvx4lpbPsOrgxNJ6e5paFn88YNtdZbVVF1HVhZMRxmjz9OURxXww1ej3Pbmgahov3JRtnMPljp8RZNa+wqXOXFCivT/fieytR1V1+V7Ni2pX+P3n3Y84o93vg8uwZLa5UBS5KkCcA0KToGErImDZUk9o3KV0YYuG/ZtCG9/UTlLoN1nAx1LTXA4PmoVvFccd+orOzrtb1WqkidDYonIVzl3Xn3/WEvrKJfGIDphDRs2X3921bllwZS1wxYkiRNAAadsT379q2bkwOHjkxUq2taudNhkC8qLjvTIEAgYEogjS2YUth2170ibTXAYL1YmWYW465mgWodXzQTGdZQZNg5rFa4ivg8x3A1qGELf3/z7mv7t0hrh00uJEmaAAw2mVLFb/+f/MbTnXYKrIM9kxiw79gyExozLC31Nu1lYM/UOsIH+0Z13ZCCXws3bYBRNlwhvh7nRzWLa0Do6lKZDYonOVwhW7l6zy0fD5tlR4Sv2NpdWousYEmSNAEYcDJN8MorLp74tSlUs57au3JgTxBgjyWGFkwp7HqEUfX1CEbsQ4U6x5etZo2jWgeqg0wbPET1MA1eHPNqhys+p9u3bQm/BCiaAphHoIqdAtn/6t77HgmPp5OgtBYZsCRJmgAMQlFmwDoJCFmDGjIwwB9nCCnTAKOomUVdrM2iWkfo6bKxR0SwY0omGwazHozpkYSr/AhuV3qfLR1XEMH+bX/9N08l96RB6R1vem3pXwjQzIW27oQs115pLTNgSZKk2thQeP/hlSEjhpAD6d8NW0fUlmENKdoMV1GshvHcbMw8jiDJdEHCFevg8uc4rnCVFdcN3nT925LLXvXK/q2SXIMlSZJqY4+qs3auXCdEJYlphKwjYhpf1+uWeL24eS9hKh5PXMfE5sFtVpsIN1ToeM4zdna/9oxryHTAv3nmSPg5blDMabL/1bjDFai2MtWP6a2SnmMFS5IkNcaUQTa5ZfPcvHFPGaR1OWulFtPXotNhmWYWTRAeT98+F74v2169rFgp4yl57ihW7Ph7NoYeJ1qsX/jy85Inv/6tsGE2a6mmZWqrNA4GLEmS1JrQ4a+gUkQliaA1qvV4W6j4bJpdH7odFq1X6gJVLL7aOkfCE9U49ujKV9/IVFTmNs6MfzJSnBr4kz92ZWi/briSlnOKoCRJpxiaDdA2m+pD2whRZ+yYDQEgi5BA63G64nU5ZZDnJXgcP34i+cazR0MTjjidrmuEqlHt1cuK68aKwlX4u/ScxhWu6AAYm7CAQEWL9YOHjhiupAIGLEmSThH7Dx4O07sefOTxsNcWVYjs/kRtmdu4IQQAGjJkMXWOvbMIP4Qepu+1ieDB8y4cWwqVNKpWhJ5x7mHFORKyCEaErDprs0aFK553ZkPHJ5LBOqsb3vOR8PkBYauLcC6tFU4RlCTpFMEmxg88/KXkjg/vDj/TnODqNGTRavv6a94YbmvbuKYMEtboWsheUUXPR7BiXRahj7VgXa7JighDVOtQdm1WDFdFHQ/bCld8Ds59yYuSi15+Xv+W0Qjid372C+ExsanF3be/P9mRhq9JRii85WN3hc/9Rz5wQ6Vzlura8L5U/3tJkrSGPfxH/zVM63r9pd8bfj7z9J3JmaftSG659VPJC593RnLed7043N4mqlkzM+tDVSkbLxaXToQKDSFrJg1HC4v1m19QJWKfKILT0fR1BqEBBxknbjZ8rMFrlsGvsI/MLyXr03S3c+vo14zhipDIV1Zb4YrAce/nH04eTAMH+1nRrKJMSGKtFZ+bhYVjySUX/p3k5l/48WRuttsNjdvw/l/59eSxLz+R/Otf/IlwDtI4WMGSJOkU8ejjX02u+dlbkvs//cFla2dYY8MglNu7QqB69uBCYcAgZNFlsE63v+2bZ5ItczOVHlunstTUqNeM4Wr/kWMhlGW1Fa7yPvmZ+5Lf+OwXkk98ePeaXEvFWsM9t34qfK5jiOS2J/78r5J3vPly14+pM67BkiRpDWKdDNP/XvvWd51cZ8Vv8GlOwHqarOuuvqq3riYNYF0hHND8YlsaiPKYRkiwqLpmiWDGVMOqwYz7xnVSZ+2aG0sDjOxr5s+T6Y3cxl5d4wpX+NG3XBHe9yf+9C/6t0y3uEYseuwrXwtTAglXnOfl6b+Fd9/y8VC5Y/1h/v5SWwxYkiStMTQgIFxddcXF4Yu1M1QrwDqUA+nAcs/H7go/I3aFo/FFl5gqRyjasWVmRZdBgkXsMsh9hjWjIHSwuTFomlG3AhW6/u0bXwMMhNdMzzN2GuRPNgpmDzHCVxZdAtsOV6yf4r1/4KEvngzeF66BqXN8vglNWed+57eFtVf8QoFwBapZ7Nu1loKlJo8BS5KkNYTfyjOgvHn3tclVr39VaF5x1esuSe6975Hw94QpQhaNDhhoc38G2ww4L73kFeE+Xdu2mVbuK9uYE5SoRoFugPm/B7fFDntUvppi4+Nv7jsavu+is2GRWM1ilQaNOY7ML67YgLkXrmZbr1wRpEEl58ChIyFsTHqjijIue9Urkx958+Xhez7LoEJ33Y9dGX7mT5pyZKcFvvAFZ/W/k9rlGixJktYYKhPZroBM/WNA/YXMGqtYyWDtFYPO1ViHczwdguw9eGxF5Qab5zaErn8HMmuSmMpHtWlQp8Cm2u5sOAzntyM9P6YFso6M0MUaNUZlMVxR8WuKAH3nZ+5b0SXy+37wuhCuhr3nBBNatE9TAOMXB7fecc/AjoGcE7+AoLnH7p96e/9WqV1WsCRJWmPyg2mmBOZRyaBd+5/8wR0rml6MCwGCCg5TBvPilEFCCKGHNUuEKzoFdhV+CHrZ6XtFFbQ2EKg4L6p1vCbTHGn+8bzTNoVuiEx/bCNcgfee6mWcIgpCBrcXfS6yaH7C1DoaQ0wDwuSVr7skueySV4TpgtlzRjwfQqPhSl2yTbskSWvcI4/999BeO7ZnZ8C8ffvWialMzG7cEKpTC8eOhwpOxPfsB0XA2pIGLMJVfipd23hNwh0Bh7VRtI+vu8aryKCuh7zOuvQ1i5qANMF7zNTPX/rQJ0O18n/+xZOhLT8B+9q3//3+vVZi7dLH7/q95Of+yVuSz/3+o5Vauq8GwtSTaXB82UtfEgIWb+SHf+3uECIvuei7w30IVhe97Nxk90//o/Cz1BUDliRJa9znHvyjMLhkoMn0QSoahK1JGiyzF9aWTRtCJScGD4o47FkVQ8/2NGgxrZCW713jOOYXjienp69PJavJPl3RsJbyBCuCZBd4n6ns/PXfPBUamdD4ZFjIoBJEBeiH3/Ca5Pqrrwpr+HgTmGZKeJnEkPWhNEzxgYlhio6Z27duTm779XuTr/3ZXyYXp7d/x4te0Mleb1KeUwQlSVrj+M0+g83YSW3U2pvVQtWIqXmEDUINTScIOlSuDhzpdd+LUwYJX11rswEG4YqphzzfOMNVRChi6mhsfhLR4CSP9XnxT8IWeMykfm5w4cvOPXncEU0uOGa6at6S6Zopdc2AJUlSC/7VR3/zZPeySfPVdOBJq3Y6qeXXZ00iwgbrkFifRLCKCCYx8NBJsKs1UllUz+hWSDOKM3bOVtqnK+J8CFdUrni+rHGEq0GYKnrDL350RciiOcR/+d3bwjTCN1/73pOf60mdHgimLzIFMo9zIGSx15s0LnYRlCSpBXRlYzrVO/qtoifJb3/+4TBontTqwyBMBaSzHlWsPIIOX4Sfoi6EXSDQ7do2G77fmx5XvhJVJN5/36Feh8Cs1QxXoDr14MNf6k0B7P+cD1Hsp0ZImbSmEBwr3QAJf/FzTcDiXM553hnJju1bw7RYKre0cJfGyQqWJEkNxa5s56YD0Un0xnTQOW3hCuwBRSWLIJJHJ0E2592ZBpRxhRQCFdMUCXRn7eptEjwIUxjpkAjC2KSFKxCmYrgCU0iLqrCjug2uBqa9Mi2QNWF8tjkXAhUh6x66Jt59f+gauP/Qkf4jpPGxgiVJUkN0WGMw94e/e9tET6OaZofTQEW1Kl80Isjs3DqbbEzDGGu1ylSV2sB6rLBJcJjGeGxZgOKY4mbI2SmO0SSEqyKxAcoHdl8bKp78TJMI9kgr2lNq0lDROicNW7Zg12qzgiVJUkMsrmdglw9Xk7omaxrRpv3MnZtWrLsi2FAhOjy/FBpkDKsqtWlQAwyObxrDFVifR7h6z57bk5e++uoQtli3N0nhivViBD8aV+QNWocljZsVLEmSGnrTte8N61RYSP/Y419NHvvK18JAj4D1kQ/c0NuXR62gTfvBNLjwlZetKlHtGhdC3a5tG5ND6THRhp29u4rC1a6tvf28pkF2bdOkiBU1pgIybTHftOXR9N/eNT97i5VkrToDliRJDbDY/vt/8Lr+Tz38Jp1QxZ8EL7Xv4JFjIWQVTRlk7yw27S3biKINszPrkzN3zoUA+NTelftcrVa4orr6xJ/+RXLhBedP5Tq8iI2Ef+OzXwjTFTkPfqnBudFUJk4J5N8iXQ/vvv39BiytKgOWJEk1MaBjQ1YGejQLuPKKi8MGp+qh4kC1gf2IuhD3yCoKUXQY3L5lJvz9wrHmmwQPE6cFUrniUHjdvQd73Q2Z0bgzDXybxzR1kc8kVdQHH3n8ZBUV09KivwjnRAOO3de/LezHRdiiksU53XLrp8IvMqgUE6q4r+FKq801WJIk1cTmpYQr1q2wgavh6jmEq6/9+V8t29S2bRtn1g/s5keXwaf3LSSnbZ3tdM1TDFf7jxwL0wLj69LdkC/WhY0rXHHNqaay5xmVU0IHFR4qPu/oKOSOA9MBOQc+SwRGwhX/3gjuH/mlnw5Bkl90wHClSWDAkiSpBroG0j2Q36LTBj2L36Kfqjh39k46cOjIyapCl9avWxfWXe3YsnL6XWxEQbt3gk6+QUZTrPki4BGujsw/txcXr8umwpvnNoQQOA5cd6pWVFJjsOK2O+++P/wCYJqDB+GKzYLB+RAes+sa4/pHaVIYsCRJquF7Xn5e4bQrupyxDuRU7SBIq2xkW2VzTfjqMnhu20y1aLawyyDTBOPeVbMb2xn6EK5OS4Md1apsuALHQOhb33KgG4YAxfokpmTy+eN60w2QoDUNLdbLYv+rLKp1hEobyWiSuAZLkqSWMVWLFtdxQf6phGBJA4J3vOm1YUoXU7disIohoMtrsrh0Itl3aCGZL1h3FbsMDuryVxaVqZ1bN4ZwRbUqi3BFtYyq2WqhhTlBl6l193/6g1P/GeTzE6cJ3vO5h5J33/LxsO4KBC6bWmjSWMGSJKllVLVoeJENF2BxPmu21jIGwayPYZ0MjQl+JA1a/+V3bzs5xeu2O+4Jf3YlTgdkv6m8OGVwduOG2lMGCVc7Nm8MnQInMVyBMMIXVZ2ur3dbqLgNQlgkWIHQftP1bwuBis8agd1wpUljBUuSpI4QpmKbdoIWA0UW5LMmJr9ua1oRGqnWMTWNaYHxfLl9+/aty86T9TOsW4thq2vzx5aSZw8srGjlDroMbku/nj1Uvsvg9jS0sc8V66vynQsnJVzh+37wujBtjveDz92kB5Bh+1ft6TeSuSMNUtK0sIIlSVJHYtgAA0cGifzGne6DBJBpx+D3j7/ytbDOBwTIuPaMDm8rmn8cOBSC2LjMbdyQnLlzU2GjCbr9Ea7oMkhwGmVawhUIsLHpwzRUd877rheHP2kvn8W/EX4hQdMOaZoYsCRJ6gi/eWea3EtffXXorEf4oOEA+/kwhS47fXDaxMEv1TiqJUwLBJvaFmGK1z33PbKs+cU4EHrO2lk8ZZDKVZkpg9MUrsDUuWmaNsexsqaKLohZl73qlWPpRCm1zYAlSVIHCE+EKhA+GPTS/IFgcs4Lzjq5TmZaMei9KQ1LcfDL+Z2TfuXXmMWQSaCkgpet6o0Te2Ht2roxbPybxUKJp9PgtHBsKexnle8ySLhin62icEVlrItwxTVjOiWfn9em1+63P/9w/2/WLtaL5T87fKb4kqaNa7AkSeoA1SqCBRuh8pt4MFBmeiAIGnFdCV3f1kIrbQIBA+U4ZTBi4LxawSqPLoMEqnxYAuGKKYOxyyChbC69jXCVHy31wtVs2IerDQ88/KXk3vTzwWeBUEFFh+vGF1P+1lLQ4N8GATKE8uedkbzwBWclf/03TyU3/OJH10TXQ8mAJUlSRwhYdBOMe2UxsKSzILLtyqlSUOWa9pBFwGK6IF+cK5sxT+IUr+Pp0Gf/oWNpkFq+fxWY8rdrW28/rcWl48mzBxc6D1eEKKqbdMejSx7XK3sb69nWErYxYLpofk8rsEaPr/PTQM6fBHP+vDQN7k4V1LQwYEmS1JEYqJg6R2WH39ojvxcUa7QIWASTaUZQ/Gi/IQHhikYLk7wB7MEjx9KvxWVdBslMp/UDFgEq32Vwy9yGEMDaRnWTlupx/zA2C+Zzs9a75/FvhKmyBErOn3MmVMXbYhfEcXWelNpgwJIkqUMMEGkGQYc9fhOfn+7FAJNK1yc+dFNy0QXn92+dTgRFpgc++PCXOt9QuC3HFo8nzxxYCFMGCVesw2KT4v2Hj52cMnjw6GLoOthVuIr4LPA54TNDwFhrUwNHsSW71gqbXEiS1CF++04Vh6leDBzzA+aTjS7S0T37AYW9ovqbqkbT0G2QcIBpCldgut9Zu+ZCl0DC1dGFpRCuQOWK9Vc0uThr16ZOwxW4Ztf92JVh6hyfm1FNUGiYEgPZWnDpxReEX0bEz5I0raxgSZI0RvyGngX9/Pm1P/+r3s+ZASXToxho06GPPxk8U+Fi4D3pa3EeeOiLyYUXnD+1a2WoZj21b77/03No8U7Di67F95qpoqw54v0fFFT53LDmjc8LgYx2+WuhUQpV0GxjGGkaGbAkSRojFvjTsjwGKQbVcVoUt2URvLgPHebi/dWt+WNLyd6Dx052GRxXuALvN+uQsu3vi/CZya7RovPge/bcHkLZuPcZaxuhkc953FdNmkYGLEmSVhGBiw1W84v4GWzTICPbhVDjQSv3fYcWwvTBcYWrIgSpBx/6Ymh6kXXP5x8OTUSoWr2x3xiF+975mfuSd7zliqmtIIIpsgxN11rnRJ1aXIMlSdIqevIbT6+oTMVwhfzgWt1j42A2EF7NcAUC07tv+XiocGYxhZB1br96xz0hoINQRRCf5nCFK9NzM1xp2hmwJElaRYQppnpFVCLye2XFaYT8qVMH1SjWI+WnjoL1Vnw+mG6aD2DTbNoDogQDliRJq4g1M+d957eF74vCFYNnGh+w6Sx/sl+STg2EjdjsgSDO+5/F54NwvpYClrQWGLAkSVpFVCfiNEBabjOQzrY5p+kB7v/0B5OPfOCG0MyAphc6tbCHGuKUQPA9HQQvXAPdA6W1xIAlSdIEIFix71F+rywG1lQyuI1pYbRrv+Vjd4X769TBZ+Du298fWvu/9q3vCt32mB7I5yH7eZG0+uwiKEnShCE8sdkwTQv4numB73jTa0/+TFXLNtanLtqyx8qV4UqaPAYsSZImzCc/c1/yG5/9QpgWGH++5dZPhZ8dUBeLofSFLzgrdNmbZEwFZe3UdVdfZVMHaQ1yiqAkSRMmNjaI621i22oChFai8QfNQZg+t+djd4VmEJM6hZKwTAWK6aBsFjypxympPitYkiRNIAbehAYqHVSt2FyW5hesw9Jy3/eD14UGIFwbOjHSCIQQw3q2ohbnq4Vuf0z3vOn6t4XQTLMSAiGVrLhhsKTpZwVLkqQJRKgiUF34snPDzzff9E7DVQGCKNWgOHWSKXcxbMWujJOCkEzTkosuOD/8fNklrwgh8Gu2WZfWFCtYkiRpqjEl8NI0rLCnWEQliyl4NIKYpIYgVNbevef2cKwELElrjxUsSZI0VR59/KuhGkSIwk1pWLnz7vvD+qaIStYHbnrnsvutBl47+/pU1q7vt9qXtDYZsCRJ0tSg8ccNv/jRsHaJChWoBIX9wW79VGh4EZ33XS/uf7d67qQDZC5MMU2QqYurGfwkdWfD+1L97yVJkiYW4YpOgZ+9/f3J6y/93uTeNEyd+53fFlqzh3VNJ06EkMWarPn5heRXf/3e5GV/+zuTH0jvu1o4NvYt25aGqvNf8qIQrN7/oU8m3/6iFyQ//IbX9O8laS1xDZYkSZp4BBM68LEXWNw7ip8vvfiCZMf2rWENFo0uWONEoCFk8XdszrzaOHYablCxYoPg2MAkNuaQtLYYsCRJ0lRg7VXswMdUwF9Ng9SVV1ycPPjI4yFQTXpooU37/gOHTp6DpLXJgCVJkqYOYYW1TAQqKkOsx3rHmy8PX5K0mmxyIUmSpg4bCMdqFVMGacdOdUiSVpsBS5IkTTXWOD3w8JeSC516J2kCOEVQkiRNJYLVY49/Nbnt1+9NfvLqq5I3vu6S/t9I0uoxYEmSpKlE1YoNhm/efa0d+SRNDAOWJEmSJLXENViSJEmS1BIDliRJkiS1xIAlSZIkSS0xYEmSJElSSwxYkiRJktQSA5YkSZIktcSAJUmSJEktMWBJkiRJUksMWJIkSZLUEgOWJEmSJLXEgCVJkiRJLTFgSZIkSVJLDFiSJEmS1BIDliRJkiS1xIAlSZIkSS0xYEmSJElSSwxYkiRJktQSA5YkSZIktcSAJUmSJEktMWBJkiRJUksMWJIkSZLUEgOWJEmSJLXEgCVJkiRJLTFgSZIkSVJLDFiSJEmS1BIDliRJkiS1xIAlSZIkSS0xYEmSJElSSwxYkiRJktQSA5YkSZIktcSAJUmSJEktMWBJkiRJUksMWJIkSZLUEgOWJEmSJLXEgCVJkiRJLTFgSZIkSVJLDFiSJEmS1BIDliRJkiS1xIAlSZIkSS0xYEmSJElSSwxYkiRJktQSA5YkSZIktcSAJUmSJEmtSJL/H7ja7iZ+upT1AAAAAElFTkSuQmCC)"
      ],
      "metadata": {
        "id": "uBP0fqLQqOnP"
      }
    },
    {
      "cell_type": "code",
      "source": [],
      "metadata": {
        "id": "xNXlyIQMqQXR"
      },
      "execution_count": null,
      "outputs": []
    }
  ]
}